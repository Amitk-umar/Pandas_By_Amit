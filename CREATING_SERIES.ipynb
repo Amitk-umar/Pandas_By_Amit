{
 "cells": [
  {
   "cell_type": "markdown",
   "id": "6315cd36",
   "metadata": {},
   "source": [
    "#  Pandas Series\n"
   ]
  },
  {
   "cell_type": "markdown",
   "id": "21e98759",
   "metadata": {},
   "source": [
    "A series is one dimensional labelled array capable of holding data of any type. The axis of a series is called index."
   ]
  },
  {
   "cell_type": "markdown",
   "id": "0a8caaf4",
   "metadata": {},
   "source": [
    "# Creating Series\n",
    "There are multiple ways to create a pandas Series. Let's create a pandas Series using the following methods:"
   ]
  },
  {
   "cell_type": "code",
   "execution_count": 12,
   "id": "b7dba285",
   "metadata": {},
   "outputs": [],
   "source": [
    "import numpy as np\n",
    "import pandas as pd  "
   ]
  },
  {
   "cell_type": "code",
   "execution_count": 18,
   "id": "e1603a8d",
   "metadata": {},
   "outputs": [],
   "source": [
    "labels = ['a','b','c','d','e']\n",
    "my_list = [1,2,3,4,5]\n",
    "my_array = np.array([10,20,30,40,50])\n",
    "dictionary = {'a': 100, 'b': 200, 'c': 300, 'd': 400, 'e': 500}"
   ]
  },
  {
   "cell_type": "markdown",
   "id": "e2e46c2b",
   "metadata": {},
   "source": [
    "Creating series with List"
   ]
  },
  {
   "cell_type": "code",
   "execution_count": 19,
   "id": "a97466db",
   "metadata": {},
   "outputs": [
    {
     "data": {
      "application/vnd.microsoft.datawrangler.viewer.v0+json": {
       "columns": [
        {
         "name": "index",
         "rawType": "object",
         "type": "string"
        },
        {
         "name": "0",
         "rawType": "int64",
         "type": "integer"
        }
       ],
       "ref": "35e04ff5-0582-4d1b-82d9-4999003aaeb7",
       "rows": [
        [
         "a",
         "1"
        ],
        [
         "b",
         "2"
        ],
        [
         "c",
         "3"
        ],
        [
         "d",
         "4"
        ],
        [
         "e",
         "5"
        ]
       ],
       "shape": {
        "columns": 1,
        "rows": 5
       }
      },
      "text/plain": [
       "a    1\n",
       "b    2\n",
       "c    3\n",
       "d    4\n",
       "e    5\n",
       "dtype: int64"
      ]
     },
     "execution_count": 19,
     "metadata": {},
     "output_type": "execute_result"
    }
   ],
   "source": [
    "pd.Series(data=my_list,index=labels)"
   ]
  },
  {
   "cell_type": "markdown",
   "id": "f31ff2f3",
   "metadata": {},
   "source": [
    "Creating series with a Array"
   ]
  },
  {
   "cell_type": "code",
   "execution_count": 20,
   "id": "8c67922d",
   "metadata": {},
   "outputs": [
    {
     "data": {
      "application/vnd.microsoft.datawrangler.viewer.v0+json": {
       "columns": [
        {
         "name": "index",
         "rawType": "object",
         "type": "string"
        },
        {
         "name": "0",
         "rawType": "int64",
         "type": "integer"
        }
       ],
       "ref": "52a639e0-2119-40cf-9511-8e2a8c018e30",
       "rows": [
        [
         "a",
         "10"
        ],
        [
         "b",
         "20"
        ],
        [
         "c",
         "30"
        ],
        [
         "d",
         "40"
        ],
        [
         "e",
         "50"
        ]
       ],
       "shape": {
        "columns": 1,
        "rows": 5
       }
      },
      "text/plain": [
       "a    10\n",
       "b    20\n",
       "c    30\n",
       "d    40\n",
       "e    50\n",
       "dtype: int64"
      ]
     },
     "execution_count": 20,
     "metadata": {},
     "output_type": "execute_result"
    }
   ],
   "source": [
    "pd.Series(data = my_array,index = labels)"
   ]
  },
  {
   "cell_type": "markdown",
   "id": "f630a6ed",
   "metadata": {},
   "source": [
    "Creating series from a Dictionary"
   ]
  },
  {
   "cell_type": "code",
   "execution_count": 21,
   "id": "ff0041f8",
   "metadata": {},
   "outputs": [
    {
     "data": {
      "application/vnd.microsoft.datawrangler.viewer.v0+json": {
       "columns": [
        {
         "name": "index",
         "rawType": "object",
         "type": "string"
        },
        {
         "name": "0",
         "rawType": "int64",
         "type": "integer"
        }
       ],
       "ref": "5dc21a56-d1f8-48a5-a6ec-8b0313edf1cf",
       "rows": [
        [
         "a",
         "100"
        ],
        [
         "b",
         "200"
        ],
        [
         "c",
         "300"
        ],
        [
         "d",
         "400"
        ],
        [
         "e",
         "500"
        ]
       ],
       "shape": {
        "columns": 1,
        "rows": 5
       }
      },
      "text/plain": [
       "a    100\n",
       "b    200\n",
       "c    300\n",
       "d    400\n",
       "e    500\n",
       "dtype: int64"
      ]
     },
     "execution_count": 21,
     "metadata": {},
     "output_type": "execute_result"
    }
   ],
   "source": [
    "pd.Series(data = dictionary )"
   ]
  },
  {
   "cell_type": "code",
   "execution_count": null,
   "id": "1ea21ab5",
   "metadata": {},
   "outputs": [],
   "source": []
  }
 ],
 "metadata": {
  "kernelspec": {
   "display_name": "Python 3 (ipykernel)",
   "language": "python",
   "name": "python3"
  },
  "language_info": {
   "codemirror_mode": {
    "name": "ipython",
    "version": 3
   },
   "file_extension": ".py",
   "mimetype": "text/x-python",
   "name": "python",
   "nbconvert_exporter": "python",
   "pygments_lexer": "ipython3",
   "version": "3.13.5"
  }
 },
 "nbformat": 4,
 "nbformat_minor": 5
}
