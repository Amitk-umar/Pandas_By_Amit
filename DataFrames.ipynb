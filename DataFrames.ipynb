{
 "cells": [
  {
   "cell_type": "code",
   "execution_count": 1,
   "id": "2dd48b72",
   "metadata": {},
   "outputs": [],
   "source": [
    "import numpy as np\n",
    "import pandas as pd"
   ]
  },
  {
   "cell_type": "markdown",
   "id": "69ebdef8",
   "metadata": {},
   "source": [
    "# Creating a DataFrame by dictionary\n"
   ]
  },
  {
   "cell_type": "code",
   "execution_count": 2,
   "id": "d544dece",
   "metadata": {},
   "outputs": [
    {
     "data": {
      "application/vnd.microsoft.datawrangler.viewer.v0+json": {
       "columns": [
        {
         "name": "index",
         "rawType": "object",
         "type": "string"
        },
        {
         "name": "Name",
         "rawType": "object",
         "type": "string"
        },
        {
         "name": "Age",
         "rawType": "int64",
         "type": "integer"
        },
        {
         "name": "City",
         "rawType": "object",
         "type": "string"
        },
        {
         "name": "Salary",
         "rawType": "int64",
         "type": "integer"
        }
       ],
       "ref": "2203ff35-51fe-49d4-a72e-688521cc9c4f",
       "rows": [
        [
         "a",
         "Ravi",
         "23",
         "Jaipur",
         "10000"
        ],
        [
         "b",
         "Amit",
         "24",
         "ludhiana",
         "15000"
        ],
        [
         "c",
         "Raghav",
         "31",
         "Delhi",
         "12000"
        ],
        [
         "d",
         "Ankit jangir",
         "25",
         "Agra",
         "18000"
        ],
        [
         "e",
         "Jashanpreet singh",
         "21",
         "Noida",
         "20000"
        ]
       ],
       "shape": {
        "columns": 4,
        "rows": 5
       }
      },
      "text/html": [
       "<div>\n",
       "<style scoped>\n",
       "    .dataframe tbody tr th:only-of-type {\n",
       "        vertical-align: middle;\n",
       "    }\n",
       "\n",
       "    .dataframe tbody tr th {\n",
       "        vertical-align: top;\n",
       "    }\n",
       "\n",
       "    .dataframe thead th {\n",
       "        text-align: right;\n",
       "    }\n",
       "</style>\n",
       "<table border=\"1\" class=\"dataframe\">\n",
       "  <thead>\n",
       "    <tr style=\"text-align: right;\">\n",
       "      <th></th>\n",
       "      <th>Name</th>\n",
       "      <th>Age</th>\n",
       "      <th>City</th>\n",
       "      <th>Salary</th>\n",
       "    </tr>\n",
       "  </thead>\n",
       "  <tbody>\n",
       "    <tr>\n",
       "      <th>a</th>\n",
       "      <td>Ravi</td>\n",
       "      <td>23</td>\n",
       "      <td>Jaipur</td>\n",
       "      <td>10000</td>\n",
       "    </tr>\n",
       "    <tr>\n",
       "      <th>b</th>\n",
       "      <td>Amit</td>\n",
       "      <td>24</td>\n",
       "      <td>ludhiana</td>\n",
       "      <td>15000</td>\n",
       "    </tr>\n",
       "    <tr>\n",
       "      <th>c</th>\n",
       "      <td>Raghav</td>\n",
       "      <td>31</td>\n",
       "      <td>Delhi</td>\n",
       "      <td>12000</td>\n",
       "    </tr>\n",
       "    <tr>\n",
       "      <th>d</th>\n",
       "      <td>Ankit jangir</td>\n",
       "      <td>25</td>\n",
       "      <td>Agra</td>\n",
       "      <td>18000</td>\n",
       "    </tr>\n",
       "    <tr>\n",
       "      <th>e</th>\n",
       "      <td>Jashanpreet singh</td>\n",
       "      <td>21</td>\n",
       "      <td>Noida</td>\n",
       "      <td>20000</td>\n",
       "    </tr>\n",
       "  </tbody>\n",
       "</table>\n",
       "</div>"
      ],
      "text/plain": [
       "                Name  Age      City  Salary\n",
       "a               Ravi   23    Jaipur   10000\n",
       "b               Amit   24  ludhiana   15000\n",
       "c             Raghav   31     Delhi   12000\n",
       "d       Ankit jangir   25      Agra   18000\n",
       "e  Jashanpreet singh   21     Noida   20000"
      ]
     },
     "execution_count": 2,
     "metadata": {},
     "output_type": "execute_result"
    }
   ],
   "source": [
    "data = {\n",
    "    'Name' : ['Ravi', 'Amit', 'Raghav', 'Ankit jangir','Jashanpreet singh'],\n",
    "    'Age' : [23, 24, 31, 25, 21],\n",
    "    'City' : ['Jaipur', 'ludhiana', 'Delhi', 'Agra', 'Noida'],\n",
    "    'Salary' : [10000, 15000, 12000, 18000, 20000]\n",
    "}\n",
    "\n",
    "df = pd.DataFrame(data = data ,index = ['a', 'b', 'c', 'd', 'e'])\n",
    "df"
   ]
  },
  {
   "cell_type": "markdown",
   "id": "54fee0b4",
   "metadata": {},
   "source": [
    "# Creating a DataFrame by List\n"
   ]
  },
  {
   "cell_type": "code",
   "execution_count": 3,
   "id": "0030df7d",
   "metadata": {},
   "outputs": [
    {
     "data": {
      "application/vnd.microsoft.datawrangler.viewer.v0+json": {
       "columns": [
        {
         "name": "index",
         "rawType": "int64",
         "type": "integer"
        },
        {
         "name": "Name",
         "rawType": "object",
         "type": "string"
        },
        {
         "name": "Age",
         "rawType": "int64",
         "type": "integer"
        },
        {
         "name": "City",
         "rawType": "object",
         "type": "string"
        },
        {
         "name": "Salary",
         "rawType": "int64",
         "type": "integer"
        }
       ],
       "ref": "358bdfee-b880-4a9c-8ec8-da0a3fb7d4e5",
       "rows": [
        [
         "0",
         "Ravi",
         "23",
         "Jaipur",
         "10000"
        ],
        [
         "1",
         "Amit",
         "24",
         "ludhiana",
         "15000"
        ],
        [
         "2",
         "Raghav",
         "31",
         "Delhi",
         "12000"
        ],
        [
         "3",
         "Ankit jangir",
         "40",
         "Agra",
         "18000"
        ],
        [
         "4",
         "Jashanpreet singh",
         "21",
         "Noida",
         "20000"
        ]
       ],
       "shape": {
        "columns": 4,
        "rows": 5
       }
      },
      "text/html": [
       "<div>\n",
       "<style scoped>\n",
       "    .dataframe tbody tr th:only-of-type {\n",
       "        vertical-align: middle;\n",
       "    }\n",
       "\n",
       "    .dataframe tbody tr th {\n",
       "        vertical-align: top;\n",
       "    }\n",
       "\n",
       "    .dataframe thead th {\n",
       "        text-align: right;\n",
       "    }\n",
       "</style>\n",
       "<table border=\"1\" class=\"dataframe\">\n",
       "  <thead>\n",
       "    <tr style=\"text-align: right;\">\n",
       "      <th></th>\n",
       "      <th>Name</th>\n",
       "      <th>Age</th>\n",
       "      <th>City</th>\n",
       "      <th>Salary</th>\n",
       "    </tr>\n",
       "  </thead>\n",
       "  <tbody>\n",
       "    <tr>\n",
       "      <th>0</th>\n",
       "      <td>Ravi</td>\n",
       "      <td>23</td>\n",
       "      <td>Jaipur</td>\n",
       "      <td>10000</td>\n",
       "    </tr>\n",
       "    <tr>\n",
       "      <th>1</th>\n",
       "      <td>Amit</td>\n",
       "      <td>24</td>\n",
       "      <td>ludhiana</td>\n",
       "      <td>15000</td>\n",
       "    </tr>\n",
       "    <tr>\n",
       "      <th>2</th>\n",
       "      <td>Raghav</td>\n",
       "      <td>31</td>\n",
       "      <td>Delhi</td>\n",
       "      <td>12000</td>\n",
       "    </tr>\n",
       "    <tr>\n",
       "      <th>3</th>\n",
       "      <td>Ankit jangir</td>\n",
       "      <td>40</td>\n",
       "      <td>Agra</td>\n",
       "      <td>18000</td>\n",
       "    </tr>\n",
       "    <tr>\n",
       "      <th>4</th>\n",
       "      <td>Jashanpreet singh</td>\n",
       "      <td>21</td>\n",
       "      <td>Noida</td>\n",
       "      <td>20000</td>\n",
       "    </tr>\n",
       "  </tbody>\n",
       "</table>\n",
       "</div>"
      ],
      "text/plain": [
       "                Name  Age      City  Salary\n",
       "0               Ravi   23    Jaipur   10000\n",
       "1               Amit   24  ludhiana   15000\n",
       "2             Raghav   31     Delhi   12000\n",
       "3       Ankit jangir   40      Agra   18000\n",
       "4  Jashanpreet singh   21     Noida   20000"
      ]
     },
     "execution_count": 3,
     "metadata": {},
     "output_type": "execute_result"
    }
   ],
   "source": [
    "data_list = [['Ravi', 23, 'Jaipur', 10000],\n",
    "    ['Amit', 24, 'ludhiana', 15000],\n",
    "    ['Raghav', 31, 'Delhi', 12000],\n",
    "    ['Ankit jangir', 40, 'Agra', 18000],\n",
    "    ['Jashanpreet singh', 21, 'Noida', 20000]\n",
    "]\n",
    "df2 = pd.DataFrame(data_list, columns=['Name', 'Age', 'City', 'Salary'])\n",
    "df2\n"
   ]
  },
  {
   "cell_type": "markdown",
   "id": "6664e107",
   "metadata": {},
   "source": [
    "# Selection and indexing of column in a DataFrame"
   ]
  },
  {
   "cell_type": "code",
   "execution_count": 4,
   "id": "9bf0084c",
   "metadata": {},
   "outputs": [
    {
     "data": {
      "application/vnd.microsoft.datawrangler.viewer.v0+json": {
       "columns": [
        {
         "name": "index",
         "rawType": "int64",
         "type": "integer"
        },
        {
         "name": "Name",
         "rawType": "object",
         "type": "string"
        },
        {
         "name": "Age",
         "rawType": "int64",
         "type": "integer"
        },
        {
         "name": "City",
         "rawType": "object",
         "type": "string"
        },
        {
         "name": "Salary",
         "rawType": "int64",
         "type": "integer"
        }
       ],
       "ref": "65eccc3f-19fe-478e-a298-292e140bf676",
       "rows": [
        [
         "0",
         "Ravi",
         "23",
         "Jaipur",
         "10000"
        ],
        [
         "1",
         "Amit",
         "24",
         "ludhiana",
         "15000"
        ],
        [
         "2",
         "Raghav",
         "31",
         "Delhi",
         "12000"
        ],
        [
         "3",
         "Ankit jangir",
         "40",
         "Agra",
         "18000"
        ],
        [
         "4",
         "Jashanpreet singh",
         "21",
         "Noida",
         "20000"
        ]
       ],
       "shape": {
        "columns": 4,
        "rows": 5
       }
      },
      "text/html": [
       "<div>\n",
       "<style scoped>\n",
       "    .dataframe tbody tr th:only-of-type {\n",
       "        vertical-align: middle;\n",
       "    }\n",
       "\n",
       "    .dataframe tbody tr th {\n",
       "        vertical-align: top;\n",
       "    }\n",
       "\n",
       "    .dataframe thead th {\n",
       "        text-align: right;\n",
       "    }\n",
       "</style>\n",
       "<table border=\"1\" class=\"dataframe\">\n",
       "  <thead>\n",
       "    <tr style=\"text-align: right;\">\n",
       "      <th></th>\n",
       "      <th>Name</th>\n",
       "      <th>Age</th>\n",
       "      <th>City</th>\n",
       "      <th>Salary</th>\n",
       "    </tr>\n",
       "  </thead>\n",
       "  <tbody>\n",
       "    <tr>\n",
       "      <th>0</th>\n",
       "      <td>Ravi</td>\n",
       "      <td>23</td>\n",
       "      <td>Jaipur</td>\n",
       "      <td>10000</td>\n",
       "    </tr>\n",
       "    <tr>\n",
       "      <th>1</th>\n",
       "      <td>Amit</td>\n",
       "      <td>24</td>\n",
       "      <td>ludhiana</td>\n",
       "      <td>15000</td>\n",
       "    </tr>\n",
       "    <tr>\n",
       "      <th>2</th>\n",
       "      <td>Raghav</td>\n",
       "      <td>31</td>\n",
       "      <td>Delhi</td>\n",
       "      <td>12000</td>\n",
       "    </tr>\n",
       "    <tr>\n",
       "      <th>3</th>\n",
       "      <td>Ankit jangir</td>\n",
       "      <td>40</td>\n",
       "      <td>Agra</td>\n",
       "      <td>18000</td>\n",
       "    </tr>\n",
       "    <tr>\n",
       "      <th>4</th>\n",
       "      <td>Jashanpreet singh</td>\n",
       "      <td>21</td>\n",
       "      <td>Noida</td>\n",
       "      <td>20000</td>\n",
       "    </tr>\n",
       "  </tbody>\n",
       "</table>\n",
       "</div>"
      ],
      "text/plain": [
       "                Name  Age      City  Salary\n",
       "0               Ravi   23    Jaipur   10000\n",
       "1               Amit   24  ludhiana   15000\n",
       "2             Raghav   31     Delhi   12000\n",
       "3       Ankit jangir   40      Agra   18000\n",
       "4  Jashanpreet singh   21     Noida   20000"
      ]
     },
     "execution_count": 4,
     "metadata": {},
     "output_type": "execute_result"
    }
   ],
   "source": [
    "df2"
   ]
  },
  {
   "cell_type": "code",
   "execution_count": 5,
   "id": "29b1c8ea",
   "metadata": {},
   "outputs": [
    {
     "data": {
      "application/vnd.microsoft.datawrangler.viewer.v0+json": {
       "columns": [
        {
         "name": "index",
         "rawType": "int64",
         "type": "integer"
        },
        {
         "name": "Name",
         "rawType": "object",
         "type": "string"
        },
        {
         "name": "City",
         "rawType": "object",
         "type": "string"
        }
       ],
       "ref": "4f97538a-fe24-45f0-b625-a8032df7f94a",
       "rows": [
        [
         "0",
         "Ravi",
         "Jaipur"
        ],
        [
         "1",
         "Amit",
         "ludhiana"
        ],
        [
         "2",
         "Raghav",
         "Delhi"
        ],
        [
         "3",
         "Ankit jangir",
         "Agra"
        ],
        [
         "4",
         "Jashanpreet singh",
         "Noida"
        ]
       ],
       "shape": {
        "columns": 2,
        "rows": 5
       }
      },
      "text/html": [
       "<div>\n",
       "<style scoped>\n",
       "    .dataframe tbody tr th:only-of-type {\n",
       "        vertical-align: middle;\n",
       "    }\n",
       "\n",
       "    .dataframe tbody tr th {\n",
       "        vertical-align: top;\n",
       "    }\n",
       "\n",
       "    .dataframe thead th {\n",
       "        text-align: right;\n",
       "    }\n",
       "</style>\n",
       "<table border=\"1\" class=\"dataframe\">\n",
       "  <thead>\n",
       "    <tr style=\"text-align: right;\">\n",
       "      <th></th>\n",
       "      <th>Name</th>\n",
       "      <th>City</th>\n",
       "    </tr>\n",
       "  </thead>\n",
       "  <tbody>\n",
       "    <tr>\n",
       "      <th>0</th>\n",
       "      <td>Ravi</td>\n",
       "      <td>Jaipur</td>\n",
       "    </tr>\n",
       "    <tr>\n",
       "      <th>1</th>\n",
       "      <td>Amit</td>\n",
       "      <td>ludhiana</td>\n",
       "    </tr>\n",
       "    <tr>\n",
       "      <th>2</th>\n",
       "      <td>Raghav</td>\n",
       "      <td>Delhi</td>\n",
       "    </tr>\n",
       "    <tr>\n",
       "      <th>3</th>\n",
       "      <td>Ankit jangir</td>\n",
       "      <td>Agra</td>\n",
       "    </tr>\n",
       "    <tr>\n",
       "      <th>4</th>\n",
       "      <td>Jashanpreet singh</td>\n",
       "      <td>Noida</td>\n",
       "    </tr>\n",
       "  </tbody>\n",
       "</table>\n",
       "</div>"
      ],
      "text/plain": [
       "                Name      City\n",
       "0               Ravi    Jaipur\n",
       "1               Amit  ludhiana\n",
       "2             Raghav     Delhi\n",
       "3       Ankit jangir      Agra\n",
       "4  Jashanpreet singh     Noida"
      ]
     },
     "execution_count": 5,
     "metadata": {},
     "output_type": "execute_result"
    }
   ],
   "source": [
    "# name_df = df2['Name']  # Selecting the 'Name' column   \n",
    "# name_df  \n",
    "\n",
    "df_1 = pd.DataFrame(df2[['Name', 'City']]) # Selecting multiple columns\n",
    "df_1\n",
    "\n",
    "# df_2 = df2.iloc[0]  # Selecting the first row \n",
    "# df_2"
   ]
  },
  {
   "cell_type": "markdown",
   "id": "c54d1f38",
   "metadata": {},
   "source": [
    "# Creating or Adding a new column in a DataFrame"
   ]
  },
  {
   "cell_type": "code",
   "execution_count": 6,
   "id": "286b6ebd",
   "metadata": {},
   "outputs": [
    {
     "data": {
      "application/vnd.microsoft.datawrangler.viewer.v0+json": {
       "columns": [
        {
         "name": "index",
         "rawType": "int64",
         "type": "integer"
        },
        {
         "name": "Name",
         "rawType": "object",
         "type": "string"
        },
        {
         "name": "Age",
         "rawType": "int64",
         "type": "integer"
        },
        {
         "name": "City",
         "rawType": "object",
         "type": "string"
        },
        {
         "name": "Salary",
         "rawType": "int64",
         "type": "integer"
        }
       ],
       "ref": "8f1565fc-b7c5-44f4-9436-87f7a319a016",
       "rows": [
        [
         "0",
         "Ravi",
         "23",
         "Jaipur",
         "10000"
        ],
        [
         "1",
         "Amit",
         "24",
         "ludhiana",
         "15000"
        ],
        [
         "2",
         "Raghav",
         "31",
         "Delhi",
         "12000"
        ],
        [
         "3",
         "Ankit jangir",
         "40",
         "Agra",
         "18000"
        ],
        [
         "4",
         "Jashanpreet singh",
         "21",
         "Noida",
         "20000"
        ]
       ],
       "shape": {
        "columns": 4,
        "rows": 5
       }
      },
      "text/html": [
       "<div>\n",
       "<style scoped>\n",
       "    .dataframe tbody tr th:only-of-type {\n",
       "        vertical-align: middle;\n",
       "    }\n",
       "\n",
       "    .dataframe tbody tr th {\n",
       "        vertical-align: top;\n",
       "    }\n",
       "\n",
       "    .dataframe thead th {\n",
       "        text-align: right;\n",
       "    }\n",
       "</style>\n",
       "<table border=\"1\" class=\"dataframe\">\n",
       "  <thead>\n",
       "    <tr style=\"text-align: right;\">\n",
       "      <th></th>\n",
       "      <th>Name</th>\n",
       "      <th>Age</th>\n",
       "      <th>City</th>\n",
       "      <th>Salary</th>\n",
       "    </tr>\n",
       "  </thead>\n",
       "  <tbody>\n",
       "    <tr>\n",
       "      <th>0</th>\n",
       "      <td>Ravi</td>\n",
       "      <td>23</td>\n",
       "      <td>Jaipur</td>\n",
       "      <td>10000</td>\n",
       "    </tr>\n",
       "    <tr>\n",
       "      <th>1</th>\n",
       "      <td>Amit</td>\n",
       "      <td>24</td>\n",
       "      <td>ludhiana</td>\n",
       "      <td>15000</td>\n",
       "    </tr>\n",
       "    <tr>\n",
       "      <th>2</th>\n",
       "      <td>Raghav</td>\n",
       "      <td>31</td>\n",
       "      <td>Delhi</td>\n",
       "      <td>12000</td>\n",
       "    </tr>\n",
       "    <tr>\n",
       "      <th>3</th>\n",
       "      <td>Ankit jangir</td>\n",
       "      <td>40</td>\n",
       "      <td>Agra</td>\n",
       "      <td>18000</td>\n",
       "    </tr>\n",
       "    <tr>\n",
       "      <th>4</th>\n",
       "      <td>Jashanpreet singh</td>\n",
       "      <td>21</td>\n",
       "      <td>Noida</td>\n",
       "      <td>20000</td>\n",
       "    </tr>\n",
       "  </tbody>\n",
       "</table>\n",
       "</div>"
      ],
      "text/plain": [
       "                Name  Age      City  Salary\n",
       "0               Ravi   23    Jaipur   10000\n",
       "1               Amit   24  ludhiana   15000\n",
       "2             Raghav   31     Delhi   12000\n",
       "3       Ankit jangir   40      Agra   18000\n",
       "4  Jashanpreet singh   21     Noida   20000"
      ]
     },
     "execution_count": 6,
     "metadata": {},
     "output_type": "execute_result"
    }
   ],
   "source": [
    "df2"
   ]
  },
  {
   "cell_type": "code",
   "execution_count": 7,
   "id": "c03a7fd3",
   "metadata": {},
   "outputs": [
    {
     "data": {
      "application/vnd.microsoft.datawrangler.viewer.v0+json": {
       "columns": [
        {
         "name": "index",
         "rawType": "int64",
         "type": "integer"
        },
        {
         "name": "Name",
         "rawType": "object",
         "type": "string"
        },
        {
         "name": "Age",
         "rawType": "int64",
         "type": "integer"
        },
        {
         "name": "City",
         "rawType": "object",
         "type": "string"
        },
        {
         "name": "Salary",
         "rawType": "int64",
         "type": "integer"
        },
        {
         "name": "Designation",
         "rawType": "object",
         "type": "string"
        }
       ],
       "ref": "592fe954-5757-4494-aeda-dff81164edd2",
       "rows": [
        [
         "0",
         "Ravi",
         "23",
         "Jaipur",
         "10000",
         "Engineer"
        ],
        [
         "1",
         "Amit",
         "24",
         "ludhiana",
         "15000",
         "Doctor"
        ],
        [
         "2",
         "Raghav",
         "31",
         "Delhi",
         "12000",
         "Teacher"
        ],
        [
         "3",
         "Ankit jangir",
         "40",
         "Agra",
         "18000",
         "Artist"
        ],
        [
         "4",
         "Jashanpreet singh",
         "21",
         "Noida",
         "20000",
         "Scientist"
        ]
       ],
       "shape": {
        "columns": 5,
        "rows": 5
       }
      },
      "text/html": [
       "<div>\n",
       "<style scoped>\n",
       "    .dataframe tbody tr th:only-of-type {\n",
       "        vertical-align: middle;\n",
       "    }\n",
       "\n",
       "    .dataframe tbody tr th {\n",
       "        vertical-align: top;\n",
       "    }\n",
       "\n",
       "    .dataframe thead th {\n",
       "        text-align: right;\n",
       "    }\n",
       "</style>\n",
       "<table border=\"1\" class=\"dataframe\">\n",
       "  <thead>\n",
       "    <tr style=\"text-align: right;\">\n",
       "      <th></th>\n",
       "      <th>Name</th>\n",
       "      <th>Age</th>\n",
       "      <th>City</th>\n",
       "      <th>Salary</th>\n",
       "      <th>Designation</th>\n",
       "    </tr>\n",
       "  </thead>\n",
       "  <tbody>\n",
       "    <tr>\n",
       "      <th>0</th>\n",
       "      <td>Ravi</td>\n",
       "      <td>23</td>\n",
       "      <td>Jaipur</td>\n",
       "      <td>10000</td>\n",
       "      <td>Engineer</td>\n",
       "    </tr>\n",
       "    <tr>\n",
       "      <th>1</th>\n",
       "      <td>Amit</td>\n",
       "      <td>24</td>\n",
       "      <td>ludhiana</td>\n",
       "      <td>15000</td>\n",
       "      <td>Doctor</td>\n",
       "    </tr>\n",
       "    <tr>\n",
       "      <th>2</th>\n",
       "      <td>Raghav</td>\n",
       "      <td>31</td>\n",
       "      <td>Delhi</td>\n",
       "      <td>12000</td>\n",
       "      <td>Teacher</td>\n",
       "    </tr>\n",
       "    <tr>\n",
       "      <th>3</th>\n",
       "      <td>Ankit jangir</td>\n",
       "      <td>40</td>\n",
       "      <td>Agra</td>\n",
       "      <td>18000</td>\n",
       "      <td>Artist</td>\n",
       "    </tr>\n",
       "    <tr>\n",
       "      <th>4</th>\n",
       "      <td>Jashanpreet singh</td>\n",
       "      <td>21</td>\n",
       "      <td>Noida</td>\n",
       "      <td>20000</td>\n",
       "      <td>Scientist</td>\n",
       "    </tr>\n",
       "  </tbody>\n",
       "</table>\n",
       "</div>"
      ],
      "text/plain": [
       "                Name  Age      City  Salary Designation\n",
       "0               Ravi   23    Jaipur   10000    Engineer\n",
       "1               Amit   24  ludhiana   15000      Doctor\n",
       "2             Raghav   31     Delhi   12000     Teacher\n",
       "3       Ankit jangir   40      Agra   18000      Artist\n",
       "4  Jashanpreet singh   21     Noida   20000   Scientist"
      ]
     },
     "execution_count": 7,
     "metadata": {},
     "output_type": "execute_result"
    }
   ],
   "source": [
    "df2[\"Designation\"] = ['Engineer', 'Doctor', 'Teacher', 'Artist', 'Scientist']  # Creating a new column\n",
    "df2"
   ]
  },
  {
   "cell_type": "markdown",
   "id": "924e58e1",
   "metadata": {},
   "source": [
    "# Removing a column from a DataFrame"
   ]
  },
  {
   "cell_type": "code",
   "execution_count": 8,
   "id": "ec6c926a",
   "metadata": {},
   "outputs": [
    {
     "data": {
      "application/vnd.microsoft.datawrangler.viewer.v0+json": {
       "columns": [
        {
         "name": "index",
         "rawType": "int64",
         "type": "integer"
        },
        {
         "name": "Name",
         "rawType": "object",
         "type": "string"
        },
        {
         "name": "Age",
         "rawType": "int64",
         "type": "integer"
        },
        {
         "name": "City",
         "rawType": "object",
         "type": "string"
        },
        {
         "name": "Salary",
         "rawType": "int64",
         "type": "integer"
        },
        {
         "name": "Designation",
         "rawType": "object",
         "type": "string"
        }
       ],
       "ref": "57600997-d9d3-4c37-b370-2b85d836b697",
       "rows": [
        [
         "0",
         "Ravi",
         "23",
         "Jaipur",
         "10000",
         "Engineer"
        ],
        [
         "1",
         "Amit",
         "24",
         "ludhiana",
         "15000",
         "Doctor"
        ],
        [
         "2",
         "Raghav",
         "31",
         "Delhi",
         "12000",
         "Teacher"
        ],
        [
         "3",
         "Ankit jangir",
         "40",
         "Agra",
         "18000",
         "Artist"
        ],
        [
         "4",
         "Jashanpreet singh",
         "21",
         "Noida",
         "20000",
         "Scientist"
        ]
       ],
       "shape": {
        "columns": 5,
        "rows": 5
       }
      },
      "text/html": [
       "<div>\n",
       "<style scoped>\n",
       "    .dataframe tbody tr th:only-of-type {\n",
       "        vertical-align: middle;\n",
       "    }\n",
       "\n",
       "    .dataframe tbody tr th {\n",
       "        vertical-align: top;\n",
       "    }\n",
       "\n",
       "    .dataframe thead th {\n",
       "        text-align: right;\n",
       "    }\n",
       "</style>\n",
       "<table border=\"1\" class=\"dataframe\">\n",
       "  <thead>\n",
       "    <tr style=\"text-align: right;\">\n",
       "      <th></th>\n",
       "      <th>Name</th>\n",
       "      <th>Age</th>\n",
       "      <th>City</th>\n",
       "      <th>Salary</th>\n",
       "      <th>Designation</th>\n",
       "    </tr>\n",
       "  </thead>\n",
       "  <tbody>\n",
       "    <tr>\n",
       "      <th>0</th>\n",
       "      <td>Ravi</td>\n",
       "      <td>23</td>\n",
       "      <td>Jaipur</td>\n",
       "      <td>10000</td>\n",
       "      <td>Engineer</td>\n",
       "    </tr>\n",
       "    <tr>\n",
       "      <th>1</th>\n",
       "      <td>Amit</td>\n",
       "      <td>24</td>\n",
       "      <td>ludhiana</td>\n",
       "      <td>15000</td>\n",
       "      <td>Doctor</td>\n",
       "    </tr>\n",
       "    <tr>\n",
       "      <th>2</th>\n",
       "      <td>Raghav</td>\n",
       "      <td>31</td>\n",
       "      <td>Delhi</td>\n",
       "      <td>12000</td>\n",
       "      <td>Teacher</td>\n",
       "    </tr>\n",
       "    <tr>\n",
       "      <th>3</th>\n",
       "      <td>Ankit jangir</td>\n",
       "      <td>40</td>\n",
       "      <td>Agra</td>\n",
       "      <td>18000</td>\n",
       "      <td>Artist</td>\n",
       "    </tr>\n",
       "    <tr>\n",
       "      <th>4</th>\n",
       "      <td>Jashanpreet singh</td>\n",
       "      <td>21</td>\n",
       "      <td>Noida</td>\n",
       "      <td>20000</td>\n",
       "      <td>Scientist</td>\n",
       "    </tr>\n",
       "  </tbody>\n",
       "</table>\n",
       "</div>"
      ],
      "text/plain": [
       "                Name  Age      City  Salary Designation\n",
       "0               Ravi   23    Jaipur   10000    Engineer\n",
       "1               Amit   24  ludhiana   15000      Doctor\n",
       "2             Raghav   31     Delhi   12000     Teacher\n",
       "3       Ankit jangir   40      Agra   18000      Artist\n",
       "4  Jashanpreet singh   21     Noida   20000   Scientist"
      ]
     },
     "execution_count": 8,
     "metadata": {},
     "output_type": "execute_result"
    }
   ],
   "source": [
    "df2"
   ]
  },
  {
   "cell_type": "code",
   "execution_count": 9,
   "id": "1b6ee655",
   "metadata": {},
   "outputs": [
    {
     "data": {
      "application/vnd.microsoft.datawrangler.viewer.v0+json": {
       "columns": [
        {
         "name": "index",
         "rawType": "int64",
         "type": "integer"
        },
        {
         "name": "Name",
         "rawType": "object",
         "type": "string"
        },
        {
         "name": "Age",
         "rawType": "int64",
         "type": "integer"
        },
        {
         "name": "City",
         "rawType": "object",
         "type": "string"
        },
        {
         "name": "Salary",
         "rawType": "int64",
         "type": "integer"
        }
       ],
       "ref": "0b722235-5aab-440f-8426-3d33b3b058b7",
       "rows": [
        [
         "0",
         "Ravi",
         "23",
         "Jaipur",
         "10000"
        ],
        [
         "1",
         "Amit",
         "24",
         "ludhiana",
         "15000"
        ],
        [
         "2",
         "Raghav",
         "31",
         "Delhi",
         "12000"
        ],
        [
         "3",
         "Ankit jangir",
         "40",
         "Agra",
         "18000"
        ],
        [
         "4",
         "Jashanpreet singh",
         "21",
         "Noida",
         "20000"
        ]
       ],
       "shape": {
        "columns": 4,
        "rows": 5
       }
      },
      "text/html": [
       "<div>\n",
       "<style scoped>\n",
       "    .dataframe tbody tr th:only-of-type {\n",
       "        vertical-align: middle;\n",
       "    }\n",
       "\n",
       "    .dataframe tbody tr th {\n",
       "        vertical-align: top;\n",
       "    }\n",
       "\n",
       "    .dataframe thead th {\n",
       "        text-align: right;\n",
       "    }\n",
       "</style>\n",
       "<table border=\"1\" class=\"dataframe\">\n",
       "  <thead>\n",
       "    <tr style=\"text-align: right;\">\n",
       "      <th></th>\n",
       "      <th>Name</th>\n",
       "      <th>Age</th>\n",
       "      <th>City</th>\n",
       "      <th>Salary</th>\n",
       "    </tr>\n",
       "  </thead>\n",
       "  <tbody>\n",
       "    <tr>\n",
       "      <th>0</th>\n",
       "      <td>Ravi</td>\n",
       "      <td>23</td>\n",
       "      <td>Jaipur</td>\n",
       "      <td>10000</td>\n",
       "    </tr>\n",
       "    <tr>\n",
       "      <th>1</th>\n",
       "      <td>Amit</td>\n",
       "      <td>24</td>\n",
       "      <td>ludhiana</td>\n",
       "      <td>15000</td>\n",
       "    </tr>\n",
       "    <tr>\n",
       "      <th>2</th>\n",
       "      <td>Raghav</td>\n",
       "      <td>31</td>\n",
       "      <td>Delhi</td>\n",
       "      <td>12000</td>\n",
       "    </tr>\n",
       "    <tr>\n",
       "      <th>3</th>\n",
       "      <td>Ankit jangir</td>\n",
       "      <td>40</td>\n",
       "      <td>Agra</td>\n",
       "      <td>18000</td>\n",
       "    </tr>\n",
       "    <tr>\n",
       "      <th>4</th>\n",
       "      <td>Jashanpreet singh</td>\n",
       "      <td>21</td>\n",
       "      <td>Noida</td>\n",
       "      <td>20000</td>\n",
       "    </tr>\n",
       "  </tbody>\n",
       "</table>\n",
       "</div>"
      ],
      "text/plain": [
       "                Name  Age      City  Salary\n",
       "0               Ravi   23    Jaipur   10000\n",
       "1               Amit   24  ludhiana   15000\n",
       "2             Raghav   31     Delhi   12000\n",
       "3       Ankit jangir   40      Agra   18000\n",
       "4  Jashanpreet singh   21     Noida   20000"
      ]
     },
     "execution_count": 9,
     "metadata": {},
     "output_type": "execute_result"
    }
   ],
   "source": [
    "df2.drop('Designation',axis=1,inplace=True) # inplace=True means that the changes will be applied to the original DataFrame\n",
    "df2"
   ]
  },
  {
   "cell_type": "code",
   "execution_count": 10,
   "id": "13a5e1f1",
   "metadata": {},
   "outputs": [
    {
     "data": {
      "application/vnd.microsoft.datawrangler.viewer.v0+json": {
       "columns": [
        {
         "name": "index",
         "rawType": "int64",
         "type": "integer"
        },
        {
         "name": "Name",
         "rawType": "object",
         "type": "string"
        },
        {
         "name": "Age",
         "rawType": "int64",
         "type": "integer"
        },
        {
         "name": "City",
         "rawType": "object",
         "type": "string"
        },
        {
         "name": "Salary",
         "rawType": "int64",
         "type": "integer"
        }
       ],
       "ref": "da843863-c4a6-4aeb-b0b8-d73f930b62b7",
       "rows": [
        [
         "0",
         "Ravi",
         "23",
         "Jaipur",
         "10000"
        ],
        [
         "1",
         "Amit",
         "24",
         "ludhiana",
         "15000"
        ],
        [
         "2",
         "Raghav",
         "31",
         "Delhi",
         "12000"
        ],
        [
         "3",
         "Ankit jangir",
         "40",
         "Agra",
         "18000"
        ],
        [
         "4",
         "Jashanpreet singh",
         "21",
         "Noida",
         "20000"
        ]
       ],
       "shape": {
        "columns": 4,
        "rows": 5
       }
      },
      "text/html": [
       "<div>\n",
       "<style scoped>\n",
       "    .dataframe tbody tr th:only-of-type {\n",
       "        vertical-align: middle;\n",
       "    }\n",
       "\n",
       "    .dataframe tbody tr th {\n",
       "        vertical-align: top;\n",
       "    }\n",
       "\n",
       "    .dataframe thead th {\n",
       "        text-align: right;\n",
       "    }\n",
       "</style>\n",
       "<table border=\"1\" class=\"dataframe\">\n",
       "  <thead>\n",
       "    <tr style=\"text-align: right;\">\n",
       "      <th></th>\n",
       "      <th>Name</th>\n",
       "      <th>Age</th>\n",
       "      <th>City</th>\n",
       "      <th>Salary</th>\n",
       "    </tr>\n",
       "  </thead>\n",
       "  <tbody>\n",
       "    <tr>\n",
       "      <th>0</th>\n",
       "      <td>Ravi</td>\n",
       "      <td>23</td>\n",
       "      <td>Jaipur</td>\n",
       "      <td>10000</td>\n",
       "    </tr>\n",
       "    <tr>\n",
       "      <th>1</th>\n",
       "      <td>Amit</td>\n",
       "      <td>24</td>\n",
       "      <td>ludhiana</td>\n",
       "      <td>15000</td>\n",
       "    </tr>\n",
       "    <tr>\n",
       "      <th>2</th>\n",
       "      <td>Raghav</td>\n",
       "      <td>31</td>\n",
       "      <td>Delhi</td>\n",
       "      <td>12000</td>\n",
       "    </tr>\n",
       "    <tr>\n",
       "      <th>3</th>\n",
       "      <td>Ankit jangir</td>\n",
       "      <td>40</td>\n",
       "      <td>Agra</td>\n",
       "      <td>18000</td>\n",
       "    </tr>\n",
       "    <tr>\n",
       "      <th>4</th>\n",
       "      <td>Jashanpreet singh</td>\n",
       "      <td>21</td>\n",
       "      <td>Noida</td>\n",
       "      <td>20000</td>\n",
       "    </tr>\n",
       "  </tbody>\n",
       "</table>\n",
       "</div>"
      ],
      "text/plain": [
       "                Name  Age      City  Salary\n",
       "0               Ravi   23    Jaipur   10000\n",
       "1               Amit   24  ludhiana   15000\n",
       "2             Raghav   31     Delhi   12000\n",
       "3       Ankit jangir   40      Agra   18000\n",
       "4  Jashanpreet singh   21     Noida   20000"
      ]
     },
     "execution_count": 10,
     "metadata": {},
     "output_type": "execute_result"
    }
   ],
   "source": [
    "df2.drop(['City', 'Salary'], axis=1)  # Removing multiple columns\n",
    "df2"
   ]
  },
  {
   "cell_type": "code",
   "execution_count": 11,
   "id": "56bbafc1",
   "metadata": {},
   "outputs": [
    {
     "data": {
      "application/vnd.microsoft.datawrangler.viewer.v0+json": {
       "columns": [
        {
         "name": "index",
         "rawType": "int64",
         "type": "integer"
        },
        {
         "name": "Name",
         "rawType": "object",
         "type": "string"
        },
        {
         "name": "Age",
         "rawType": "int64",
         "type": "integer"
        },
        {
         "name": "City",
         "rawType": "object",
         "type": "string"
        },
        {
         "name": "Salary",
         "rawType": "int64",
         "type": "integer"
        }
       ],
       "ref": "8fb2ad32-7433-4b9d-8c13-d0f5c65e748f",
       "rows": [
        [
         "0",
         "Ravi",
         "23",
         "Jaipur",
         "10000"
        ],
        [
         "1",
         "Amit",
         "24",
         "ludhiana",
         "15000"
        ],
        [
         "2",
         "Raghav",
         "31",
         "Delhi",
         "12000"
        ],
        [
         "3",
         "Ankit jangir",
         "40",
         "Agra",
         "18000"
        ],
        [
         "4",
         "Jashanpreet singh",
         "21",
         "Noida",
         "20000"
        ]
       ],
       "shape": {
        "columns": 4,
        "rows": 5
       }
      },
      "text/html": [
       "<div>\n",
       "<style scoped>\n",
       "    .dataframe tbody tr th:only-of-type {\n",
       "        vertical-align: middle;\n",
       "    }\n",
       "\n",
       "    .dataframe tbody tr th {\n",
       "        vertical-align: top;\n",
       "    }\n",
       "\n",
       "    .dataframe thead th {\n",
       "        text-align: right;\n",
       "    }\n",
       "</style>\n",
       "<table border=\"1\" class=\"dataframe\">\n",
       "  <thead>\n",
       "    <tr style=\"text-align: right;\">\n",
       "      <th></th>\n",
       "      <th>Name</th>\n",
       "      <th>Age</th>\n",
       "      <th>City</th>\n",
       "      <th>Salary</th>\n",
       "    </tr>\n",
       "  </thead>\n",
       "  <tbody>\n",
       "    <tr>\n",
       "      <th>0</th>\n",
       "      <td>Ravi</td>\n",
       "      <td>23</td>\n",
       "      <td>Jaipur</td>\n",
       "      <td>10000</td>\n",
       "    </tr>\n",
       "    <tr>\n",
       "      <th>1</th>\n",
       "      <td>Amit</td>\n",
       "      <td>24</td>\n",
       "      <td>ludhiana</td>\n",
       "      <td>15000</td>\n",
       "    </tr>\n",
       "    <tr>\n",
       "      <th>2</th>\n",
       "      <td>Raghav</td>\n",
       "      <td>31</td>\n",
       "      <td>Delhi</td>\n",
       "      <td>12000</td>\n",
       "    </tr>\n",
       "    <tr>\n",
       "      <th>3</th>\n",
       "      <td>Ankit jangir</td>\n",
       "      <td>40</td>\n",
       "      <td>Agra</td>\n",
       "      <td>18000</td>\n",
       "    </tr>\n",
       "    <tr>\n",
       "      <th>4</th>\n",
       "      <td>Jashanpreet singh</td>\n",
       "      <td>21</td>\n",
       "      <td>Noida</td>\n",
       "      <td>20000</td>\n",
       "    </tr>\n",
       "  </tbody>\n",
       "</table>\n",
       "</div>"
      ],
      "text/plain": [
       "                Name  Age      City  Salary\n",
       "0               Ravi   23    Jaipur   10000\n",
       "1               Amit   24  ludhiana   15000\n",
       "2             Raghav   31     Delhi   12000\n",
       "3       Ankit jangir   40      Agra   18000\n",
       "4  Jashanpreet singh   21     Noida   20000"
      ]
     },
     "execution_count": 11,
     "metadata": {},
     "output_type": "execute_result"
    }
   ],
   "source": [
    "df2.drop(0,axis=0,)\n",
    "df2"
   ]
  },
  {
   "cell_type": "markdown",
   "id": "b5600893",
   "metadata": {},
   "source": [
    "# Selecting a row"
   ]
  },
  {
   "cell_type": "code",
   "execution_count": 12,
   "id": "fbdce22b",
   "metadata": {},
   "outputs": [
    {
     "data": {
      "application/vnd.microsoft.datawrangler.viewer.v0+json": {
       "columns": [
        {
         "name": "index",
         "rawType": "int64",
         "type": "integer"
        },
        {
         "name": "Name",
         "rawType": "object",
         "type": "string"
        },
        {
         "name": "Age",
         "rawType": "int64",
         "type": "integer"
        },
        {
         "name": "City",
         "rawType": "object",
         "type": "string"
        },
        {
         "name": "Salary",
         "rawType": "int64",
         "type": "integer"
        }
       ],
       "ref": "4ba414a3-cbe6-4db9-91c1-9cd8628eca1d",
       "rows": [
        [
         "0",
         "Ravi",
         "23",
         "Jaipur",
         "10000"
        ],
        [
         "1",
         "Amit",
         "24",
         "ludhiana",
         "15000"
        ],
        [
         "2",
         "Raghav",
         "31",
         "Delhi",
         "12000"
        ],
        [
         "3",
         "Ankit jangir",
         "40",
         "Agra",
         "18000"
        ],
        [
         "4",
         "Jashanpreet singh",
         "21",
         "Noida",
         "20000"
        ]
       ],
       "shape": {
        "columns": 4,
        "rows": 5
       }
      },
      "text/html": [
       "<div>\n",
       "<style scoped>\n",
       "    .dataframe tbody tr th:only-of-type {\n",
       "        vertical-align: middle;\n",
       "    }\n",
       "\n",
       "    .dataframe tbody tr th {\n",
       "        vertical-align: top;\n",
       "    }\n",
       "\n",
       "    .dataframe thead th {\n",
       "        text-align: right;\n",
       "    }\n",
       "</style>\n",
       "<table border=\"1\" class=\"dataframe\">\n",
       "  <thead>\n",
       "    <tr style=\"text-align: right;\">\n",
       "      <th></th>\n",
       "      <th>Name</th>\n",
       "      <th>Age</th>\n",
       "      <th>City</th>\n",
       "      <th>Salary</th>\n",
       "    </tr>\n",
       "  </thead>\n",
       "  <tbody>\n",
       "    <tr>\n",
       "      <th>0</th>\n",
       "      <td>Ravi</td>\n",
       "      <td>23</td>\n",
       "      <td>Jaipur</td>\n",
       "      <td>10000</td>\n",
       "    </tr>\n",
       "    <tr>\n",
       "      <th>1</th>\n",
       "      <td>Amit</td>\n",
       "      <td>24</td>\n",
       "      <td>ludhiana</td>\n",
       "      <td>15000</td>\n",
       "    </tr>\n",
       "    <tr>\n",
       "      <th>2</th>\n",
       "      <td>Raghav</td>\n",
       "      <td>31</td>\n",
       "      <td>Delhi</td>\n",
       "      <td>12000</td>\n",
       "    </tr>\n",
       "    <tr>\n",
       "      <th>3</th>\n",
       "      <td>Ankit jangir</td>\n",
       "      <td>40</td>\n",
       "      <td>Agra</td>\n",
       "      <td>18000</td>\n",
       "    </tr>\n",
       "    <tr>\n",
       "      <th>4</th>\n",
       "      <td>Jashanpreet singh</td>\n",
       "      <td>21</td>\n",
       "      <td>Noida</td>\n",
       "      <td>20000</td>\n",
       "    </tr>\n",
       "  </tbody>\n",
       "</table>\n",
       "</div>"
      ],
      "text/plain": [
       "                Name  Age      City  Salary\n",
       "0               Ravi   23    Jaipur   10000\n",
       "1               Amit   24  ludhiana   15000\n",
       "2             Raghav   31     Delhi   12000\n",
       "3       Ankit jangir   40      Agra   18000\n",
       "4  Jashanpreet singh   21     Noida   20000"
      ]
     },
     "execution_count": 12,
     "metadata": {},
     "output_type": "execute_result"
    }
   ],
   "source": [
    "df2"
   ]
  },
  {
   "cell_type": "code",
   "execution_count": 13,
   "id": "9974716e",
   "metadata": {},
   "outputs": [
    {
     "data": {
      "application/vnd.microsoft.datawrangler.viewer.v0+json": {
       "columns": [
        {
         "name": "index",
         "rawType": "int64",
         "type": "integer"
        },
        {
         "name": "Name",
         "rawType": "object",
         "type": "string"
        },
        {
         "name": "Age",
         "rawType": "int64",
         "type": "integer"
        },
        {
         "name": "City",
         "rawType": "object",
         "type": "string"
        },
        {
         "name": "Salary",
         "rawType": "int64",
         "type": "integer"
        }
       ],
       "ref": "e7a70218-8ae1-409c-92e6-a525b831ad60",
       "rows": [
        [
         "0",
         "Ravi",
         "23",
         "Jaipur",
         "10000"
        ],
        [
         "1",
         "Amit",
         "24",
         "ludhiana",
         "15000"
        ]
       ],
       "shape": {
        "columns": 4,
        "rows": 2
       }
      },
      "text/html": [
       "<div>\n",
       "<style scoped>\n",
       "    .dataframe tbody tr th:only-of-type {\n",
       "        vertical-align: middle;\n",
       "    }\n",
       "\n",
       "    .dataframe tbody tr th {\n",
       "        vertical-align: top;\n",
       "    }\n",
       "\n",
       "    .dataframe thead th {\n",
       "        text-align: right;\n",
       "    }\n",
       "</style>\n",
       "<table border=\"1\" class=\"dataframe\">\n",
       "  <thead>\n",
       "    <tr style=\"text-align: right;\">\n",
       "      <th></th>\n",
       "      <th>Name</th>\n",
       "      <th>Age</th>\n",
       "      <th>City</th>\n",
       "      <th>Salary</th>\n",
       "    </tr>\n",
       "  </thead>\n",
       "  <tbody>\n",
       "    <tr>\n",
       "      <th>0</th>\n",
       "      <td>Ravi</td>\n",
       "      <td>23</td>\n",
       "      <td>Jaipur</td>\n",
       "      <td>10000</td>\n",
       "    </tr>\n",
       "    <tr>\n",
       "      <th>1</th>\n",
       "      <td>Amit</td>\n",
       "      <td>24</td>\n",
       "      <td>ludhiana</td>\n",
       "      <td>15000</td>\n",
       "    </tr>\n",
       "  </tbody>\n",
       "</table>\n",
       "</div>"
      ],
      "text/plain": [
       "   Name  Age      City  Salary\n",
       "0  Ravi   23    Jaipur   10000\n",
       "1  Amit   24  ludhiana   15000"
      ]
     },
     "execution_count": 13,
     "metadata": {},
     "output_type": "execute_result"
    }
   ],
   "source": [
    "sel_by_row = df2.loc[[0,1]] # Selecting rows by index range\n",
    "sel_by_row"
   ]
  },
  {
   "cell_type": "code",
   "execution_count": 14,
   "id": "b2ebe926",
   "metadata": {},
   "outputs": [
    {
     "data": {
      "application/vnd.microsoft.datawrangler.viewer.v0+json": {
       "columns": [
        {
         "name": "index",
         "rawType": "object",
         "type": "string"
        },
        {
         "name": "3",
         "rawType": "object",
         "type": "unknown"
        }
       ],
       "ref": "61a8c190-67c1-4505-88c8-5782e3433fa9",
       "rows": [
        [
         "Name",
         "Ankit jangir"
        ],
        [
         "Age",
         "40"
        ],
        [
         "City",
         "Agra"
        ],
        [
         "Salary",
         "18000"
        ]
       ],
       "shape": {
        "columns": 1,
        "rows": 4
       }
      },
      "text/plain": [
       "Name      Ankit jangir\n",
       "Age                 40\n",
       "City              Agra\n",
       "Salary           18000\n",
       "Name: 3, dtype: object"
      ]
     },
     "execution_count": 14,
     "metadata": {},
     "output_type": "execute_result"
    }
   ],
   "source": [
    "df_with_iloc = df2.iloc[3]  # Selecting rows by index range using iloc - means integer location\n",
    "df_with_iloc"
   ]
  },
  {
   "cell_type": "markdown",
   "id": "8cf34ebb",
   "metadata": {},
   "source": [
    "# Selecting Subsets of Rows and  Columns"
   ]
  },
  {
   "cell_type": "code",
   "execution_count": 15,
   "id": "bdf4e58d",
   "metadata": {},
   "outputs": [
    {
     "data": {
      "application/vnd.microsoft.datawrangler.viewer.v0+json": {
       "columns": [
        {
         "name": "index",
         "rawType": "int64",
         "type": "integer"
        },
        {
         "name": "City",
         "rawType": "object",
         "type": "string"
        },
        {
         "name": "Salary",
         "rawType": "int64",
         "type": "integer"
        }
       ],
       "ref": "89ffb561-34d7-41fd-8a38-16383d318bcd",
       "rows": [
        [
         "0",
         "Jaipur",
         "10000"
        ],
        [
         "1",
         "ludhiana",
         "15000"
        ]
       ],
       "shape": {
        "columns": 2,
        "rows": 2
       }
      },
      "text/html": [
       "<div>\n",
       "<style scoped>\n",
       "    .dataframe tbody tr th:only-of-type {\n",
       "        vertical-align: middle;\n",
       "    }\n",
       "\n",
       "    .dataframe tbody tr th {\n",
       "        vertical-align: top;\n",
       "    }\n",
       "\n",
       "    .dataframe thead th {\n",
       "        text-align: right;\n",
       "    }\n",
       "</style>\n",
       "<table border=\"1\" class=\"dataframe\">\n",
       "  <thead>\n",
       "    <tr style=\"text-align: right;\">\n",
       "      <th></th>\n",
       "      <th>City</th>\n",
       "      <th>Salary</th>\n",
       "    </tr>\n",
       "  </thead>\n",
       "  <tbody>\n",
       "    <tr>\n",
       "      <th>0</th>\n",
       "      <td>Jaipur</td>\n",
       "      <td>10000</td>\n",
       "    </tr>\n",
       "    <tr>\n",
       "      <th>1</th>\n",
       "      <td>ludhiana</td>\n",
       "      <td>15000</td>\n",
       "    </tr>\n",
       "  </tbody>\n",
       "</table>\n",
       "</div>"
      ],
      "text/plain": [
       "       City  Salary\n",
       "0    Jaipur   10000\n",
       "1  ludhiana   15000"
      ]
     },
     "execution_count": 15,
     "metadata": {},
     "output_type": "execute_result"
    }
   ],
   "source": [
    "df2.loc[[0,1]]  [[\"City\",\"Salary\"]]  # Selecting specific columns from specific rows\n"
   ]
  },
  {
   "cell_type": "code",
   "execution_count": 16,
   "id": "1e6bd4ce",
   "metadata": {},
   "outputs": [
    {
     "data": {
      "application/vnd.microsoft.datawrangler.viewer.v0+json": {
       "columns": [
        {
         "name": "index",
         "rawType": "int64",
         "type": "integer"
        },
        {
         "name": "Name",
         "rawType": "object",
         "type": "string"
        },
        {
         "name": "Age",
         "rawType": "int64",
         "type": "integer"
        },
        {
         "name": "City",
         "rawType": "object",
         "type": "string"
        },
        {
         "name": "Salary",
         "rawType": "int64",
         "type": "integer"
        }
       ],
       "ref": "834cba85-f9f7-44ac-9a86-67309de17974",
       "rows": [
        [
         "0",
         "Ravi",
         "23",
         "Jaipur",
         "10000"
        ],
        [
         "1",
         "Amit",
         "24",
         "ludhiana",
         "15000"
        ],
        [
         "2",
         "Raghav",
         "31",
         "Delhi",
         "12000"
        ],
        [
         "3",
         "Ankit jangir",
         "40",
         "Agra",
         "18000"
        ],
        [
         "4",
         "Jashanpreet singh",
         "21",
         "Noida",
         "20000"
        ]
       ],
       "shape": {
        "columns": 4,
        "rows": 5
       }
      },
      "text/html": [
       "<div>\n",
       "<style scoped>\n",
       "    .dataframe tbody tr th:only-of-type {\n",
       "        vertical-align: middle;\n",
       "    }\n",
       "\n",
       "    .dataframe tbody tr th {\n",
       "        vertical-align: top;\n",
       "    }\n",
       "\n",
       "    .dataframe thead th {\n",
       "        text-align: right;\n",
       "    }\n",
       "</style>\n",
       "<table border=\"1\" class=\"dataframe\">\n",
       "  <thead>\n",
       "    <tr style=\"text-align: right;\">\n",
       "      <th></th>\n",
       "      <th>Name</th>\n",
       "      <th>Age</th>\n",
       "      <th>City</th>\n",
       "      <th>Salary</th>\n",
       "    </tr>\n",
       "  </thead>\n",
       "  <tbody>\n",
       "    <tr>\n",
       "      <th>0</th>\n",
       "      <td>Ravi</td>\n",
       "      <td>23</td>\n",
       "      <td>Jaipur</td>\n",
       "      <td>10000</td>\n",
       "    </tr>\n",
       "    <tr>\n",
       "      <th>1</th>\n",
       "      <td>Amit</td>\n",
       "      <td>24</td>\n",
       "      <td>ludhiana</td>\n",
       "      <td>15000</td>\n",
       "    </tr>\n",
       "    <tr>\n",
       "      <th>2</th>\n",
       "      <td>Raghav</td>\n",
       "      <td>31</td>\n",
       "      <td>Delhi</td>\n",
       "      <td>12000</td>\n",
       "    </tr>\n",
       "    <tr>\n",
       "      <th>3</th>\n",
       "      <td>Ankit jangir</td>\n",
       "      <td>40</td>\n",
       "      <td>Agra</td>\n",
       "      <td>18000</td>\n",
       "    </tr>\n",
       "    <tr>\n",
       "      <th>4</th>\n",
       "      <td>Jashanpreet singh</td>\n",
       "      <td>21</td>\n",
       "      <td>Noida</td>\n",
       "      <td>20000</td>\n",
       "    </tr>\n",
       "  </tbody>\n",
       "</table>\n",
       "</div>"
      ],
      "text/plain": [
       "                Name  Age      City  Salary\n",
       "0               Ravi   23    Jaipur   10000\n",
       "1               Amit   24  ludhiana   15000\n",
       "2             Raghav   31     Delhi   12000\n",
       "3       Ankit jangir   40      Agra   18000\n",
       "4  Jashanpreet singh   21     Noida   20000"
      ]
     },
     "execution_count": 16,
     "metadata": {},
     "output_type": "execute_result"
    }
   ],
   "source": [
    "df2"
   ]
  },
  {
   "cell_type": "code",
   "execution_count": 17,
   "id": "1af74b70",
   "metadata": {},
   "outputs": [
    {
     "data": {
      "application/vnd.microsoft.datawrangler.viewer.v0+json": {
       "columns": [
        {
         "name": "index",
         "rawType": "int64",
         "type": "integer"
        },
        {
         "name": "Name",
         "rawType": "object",
         "type": "string"
        },
        {
         "name": "Age",
         "rawType": "int64",
         "type": "integer"
        }
       ],
       "ref": "212bbadf-11f6-4aae-8233-77e3753777ca",
       "rows": [
        [
         "2",
         "Raghav",
         "31"
        ],
        [
         "4",
         "Jashanpreet singh",
         "21"
        ]
       ],
       "shape": {
        "columns": 2,
        "rows": 2
       }
      },
      "text/html": [
       "<div>\n",
       "<style scoped>\n",
       "    .dataframe tbody tr th:only-of-type {\n",
       "        vertical-align: middle;\n",
       "    }\n",
       "\n",
       "    .dataframe tbody tr th {\n",
       "        vertical-align: top;\n",
       "    }\n",
       "\n",
       "    .dataframe thead th {\n",
       "        text-align: right;\n",
       "    }\n",
       "</style>\n",
       "<table border=\"1\" class=\"dataframe\">\n",
       "  <thead>\n",
       "    <tr style=\"text-align: right;\">\n",
       "      <th></th>\n",
       "      <th>Name</th>\n",
       "      <th>Age</th>\n",
       "    </tr>\n",
       "  </thead>\n",
       "  <tbody>\n",
       "    <tr>\n",
       "      <th>2</th>\n",
       "      <td>Raghav</td>\n",
       "      <td>31</td>\n",
       "    </tr>\n",
       "    <tr>\n",
       "      <th>4</th>\n",
       "      <td>Jashanpreet singh</td>\n",
       "      <td>21</td>\n",
       "    </tr>\n",
       "  </tbody>\n",
       "</table>\n",
       "</div>"
      ],
      "text/plain": [
       "                Name  Age\n",
       "2             Raghav   31\n",
       "4  Jashanpreet singh   21"
      ]
     },
     "execution_count": 17,
     "metadata": {},
     "output_type": "execute_result"
    }
   ],
   "source": [
    "df2.loc[[2,4]]  [[\"Name\",\"Age\"]]  # Selecting specific columns from specific rows"
   ]
  },
  {
   "cell_type": "markdown",
   "id": "4f719a41",
   "metadata": {},
   "source": [
    "# Conditional Selection"
   ]
  },
  {
   "cell_type": "code",
   "execution_count": 18,
   "id": "07a560a8",
   "metadata": {},
   "outputs": [
    {
     "data": {
      "application/vnd.microsoft.datawrangler.viewer.v0+json": {
       "columns": [
        {
         "name": "index",
         "rawType": "int64",
         "type": "integer"
        },
        {
         "name": "Name",
         "rawType": "object",
         "type": "string"
        },
        {
         "name": "Age",
         "rawType": "int64",
         "type": "integer"
        },
        {
         "name": "City",
         "rawType": "object",
         "type": "string"
        },
        {
         "name": "Salary",
         "rawType": "int64",
         "type": "integer"
        }
       ],
       "ref": "806c3bfe-828b-4923-90a4-1763b4846383",
       "rows": [
        [
         "0",
         "Ravi",
         "23",
         "Jaipur",
         "10000"
        ],
        [
         "1",
         "Amit",
         "24",
         "ludhiana",
         "15000"
        ],
        [
         "2",
         "Raghav",
         "31",
         "Delhi",
         "12000"
        ],
        [
         "3",
         "Ankit jangir",
         "40",
         "Agra",
         "18000"
        ],
        [
         "4",
         "Jashanpreet singh",
         "21",
         "Noida",
         "20000"
        ]
       ],
       "shape": {
        "columns": 4,
        "rows": 5
       }
      },
      "text/html": [
       "<div>\n",
       "<style scoped>\n",
       "    .dataframe tbody tr th:only-of-type {\n",
       "        vertical-align: middle;\n",
       "    }\n",
       "\n",
       "    .dataframe tbody tr th {\n",
       "        vertical-align: top;\n",
       "    }\n",
       "\n",
       "    .dataframe thead th {\n",
       "        text-align: right;\n",
       "    }\n",
       "</style>\n",
       "<table border=\"1\" class=\"dataframe\">\n",
       "  <thead>\n",
       "    <tr style=\"text-align: right;\">\n",
       "      <th></th>\n",
       "      <th>Name</th>\n",
       "      <th>Age</th>\n",
       "      <th>City</th>\n",
       "      <th>Salary</th>\n",
       "    </tr>\n",
       "  </thead>\n",
       "  <tbody>\n",
       "    <tr>\n",
       "      <th>0</th>\n",
       "      <td>Ravi</td>\n",
       "      <td>23</td>\n",
       "      <td>Jaipur</td>\n",
       "      <td>10000</td>\n",
       "    </tr>\n",
       "    <tr>\n",
       "      <th>1</th>\n",
       "      <td>Amit</td>\n",
       "      <td>24</td>\n",
       "      <td>ludhiana</td>\n",
       "      <td>15000</td>\n",
       "    </tr>\n",
       "    <tr>\n",
       "      <th>2</th>\n",
       "      <td>Raghav</td>\n",
       "      <td>31</td>\n",
       "      <td>Delhi</td>\n",
       "      <td>12000</td>\n",
       "    </tr>\n",
       "    <tr>\n",
       "      <th>3</th>\n",
       "      <td>Ankit jangir</td>\n",
       "      <td>40</td>\n",
       "      <td>Agra</td>\n",
       "      <td>18000</td>\n",
       "    </tr>\n",
       "    <tr>\n",
       "      <th>4</th>\n",
       "      <td>Jashanpreet singh</td>\n",
       "      <td>21</td>\n",
       "      <td>Noida</td>\n",
       "      <td>20000</td>\n",
       "    </tr>\n",
       "  </tbody>\n",
       "</table>\n",
       "</div>"
      ],
      "text/plain": [
       "                Name  Age      City  Salary\n",
       "0               Ravi   23    Jaipur   10000\n",
       "1               Amit   24  ludhiana   15000\n",
       "2             Raghav   31     Delhi   12000\n",
       "3       Ankit jangir   40      Agra   18000\n",
       "4  Jashanpreet singh   21     Noida   20000"
      ]
     },
     "execution_count": 18,
     "metadata": {},
     "output_type": "execute_result"
    }
   ],
   "source": [
    "df2"
   ]
  },
  {
   "cell_type": "markdown",
   "id": "1454abb2",
   "metadata": {},
   "source": [
    "If you want to see only those people whose age is greater than 30"
   ]
  },
  {
   "cell_type": "code",
   "execution_count": 19,
   "id": "8da42001",
   "metadata": {},
   "outputs": [
    {
     "data": {
      "application/vnd.microsoft.datawrangler.viewer.v0+json": {
       "columns": [
        {
         "name": "index",
         "rawType": "int64",
         "type": "integer"
        },
        {
         "name": "Name",
         "rawType": "object",
         "type": "string"
        },
        {
         "name": "Age",
         "rawType": "int64",
         "type": "integer"
        },
        {
         "name": "City",
         "rawType": "object",
         "type": "string"
        },
        {
         "name": "Salary",
         "rawType": "int64",
         "type": "integer"
        }
       ],
       "ref": "69a10b54-e695-4aeb-9030-b19c5c916afd",
       "rows": [
        [
         "2",
         "Raghav",
         "31",
         "Delhi",
         "12000"
        ],
        [
         "3",
         "Ankit jangir",
         "40",
         "Agra",
         "18000"
        ]
       ],
       "shape": {
        "columns": 4,
        "rows": 2
       }
      },
      "text/html": [
       "<div>\n",
       "<style scoped>\n",
       "    .dataframe tbody tr th:only-of-type {\n",
       "        vertical-align: middle;\n",
       "    }\n",
       "\n",
       "    .dataframe tbody tr th {\n",
       "        vertical-align: top;\n",
       "    }\n",
       "\n",
       "    .dataframe thead th {\n",
       "        text-align: right;\n",
       "    }\n",
       "</style>\n",
       "<table border=\"1\" class=\"dataframe\">\n",
       "  <thead>\n",
       "    <tr style=\"text-align: right;\">\n",
       "      <th></th>\n",
       "      <th>Name</th>\n",
       "      <th>Age</th>\n",
       "      <th>City</th>\n",
       "      <th>Salary</th>\n",
       "    </tr>\n",
       "  </thead>\n",
       "  <tbody>\n",
       "    <tr>\n",
       "      <th>2</th>\n",
       "      <td>Raghav</td>\n",
       "      <td>31</td>\n",
       "      <td>Delhi</td>\n",
       "      <td>12000</td>\n",
       "    </tr>\n",
       "    <tr>\n",
       "      <th>3</th>\n",
       "      <td>Ankit jangir</td>\n",
       "      <td>40</td>\n",
       "      <td>Agra</td>\n",
       "      <td>18000</td>\n",
       "    </tr>\n",
       "  </tbody>\n",
       "</table>\n",
       "</div>"
      ],
      "text/plain": [
       "           Name  Age   City  Salary\n",
       "2        Raghav   31  Delhi   12000\n",
       "3  Ankit jangir   40   Agra   18000"
      ]
     },
     "execution_count": 19,
     "metadata": {},
     "output_type": "execute_result"
    }
   ],
   "source": [
    "df2[df2[\"Age\"] > 30]  # Conditional selection based on a condition\n"
   ]
  },
  {
   "cell_type": "markdown",
   "id": "7de6804d",
   "metadata": {},
   "source": [
    "#I want people whose age is above 30 and their city must be delhi"
   ]
  },
  {
   "cell_type": "code",
   "execution_count": 22,
   "id": "64dade7b",
   "metadata": {},
   "outputs": [
    {
     "data": {
      "application/vnd.microsoft.datawrangler.viewer.v0+json": {
       "columns": [
        {
         "name": "index",
         "rawType": "int64",
         "type": "integer"
        },
        {
         "name": "Name",
         "rawType": "object",
         "type": "string"
        },
        {
         "name": "Age",
         "rawType": "int64",
         "type": "integer"
        },
        {
         "name": "City",
         "rawType": "object",
         "type": "string"
        },
        {
         "name": "Salary",
         "rawType": "int64",
         "type": "integer"
        }
       ],
       "ref": "2dc85c5a-8fa9-4acd-acbd-f57ef59f47ef",
       "rows": [
        [
         "2",
         "Raghav",
         "31",
         "Delhi",
         "12000"
        ]
       ],
       "shape": {
        "columns": 4,
        "rows": 1
       }
      },
      "text/html": [
       "<div>\n",
       "<style scoped>\n",
       "    .dataframe tbody tr th:only-of-type {\n",
       "        vertical-align: middle;\n",
       "    }\n",
       "\n",
       "    .dataframe tbody tr th {\n",
       "        vertical-align: top;\n",
       "    }\n",
       "\n",
       "    .dataframe thead th {\n",
       "        text-align: right;\n",
       "    }\n",
       "</style>\n",
       "<table border=\"1\" class=\"dataframe\">\n",
       "  <thead>\n",
       "    <tr style=\"text-align: right;\">\n",
       "      <th></th>\n",
       "      <th>Name</th>\n",
       "      <th>Age</th>\n",
       "      <th>City</th>\n",
       "      <th>Salary</th>\n",
       "    </tr>\n",
       "  </thead>\n",
       "  <tbody>\n",
       "    <tr>\n",
       "      <th>2</th>\n",
       "      <td>Raghav</td>\n",
       "      <td>31</td>\n",
       "      <td>Delhi</td>\n",
       "      <td>12000</td>\n",
       "    </tr>\n",
       "  </tbody>\n",
       "</table>\n",
       "</div>"
      ],
      "text/plain": [
       "     Name  Age   City  Salary\n",
       "2  Raghav   31  Delhi   12000"
      ]
     },
     "execution_count": 22,
     "metadata": {},
     "output_type": "execute_result"
    }
   ],
   "source": [
    "df2[(df2[\"Age\"]>30) & (df2[\"City\"] == 'Delhi')]  # Conditional selection with multiple conditions"
   ]
  },
  {
   "cell_type": "code",
   "execution_count": null,
   "id": "a462780c",
   "metadata": {},
   "outputs": [],
   "source": []
  },
  {
   "cell_type": "code",
   "execution_count": null,
   "id": "d7c20075",
   "metadata": {},
   "outputs": [],
   "source": []
  },
  {
   "cell_type": "code",
   "execution_count": null,
   "id": "2ad243ca",
   "metadata": {},
   "outputs": [],
   "source": []
  },
  {
   "cell_type": "code",
   "execution_count": null,
   "id": "c82fe421",
   "metadata": {},
   "outputs": [],
   "source": []
  },
  {
   "cell_type": "code",
   "execution_count": null,
   "id": "c9fc1a86",
   "metadata": {},
   "outputs": [],
   "source": []
  },
  {
   "cell_type": "code",
   "execution_count": null,
   "id": "5c9a2e19",
   "metadata": {},
   "outputs": [],
   "source": []
  },
  {
   "cell_type": "code",
   "execution_count": null,
   "id": "fad411da",
   "metadata": {},
   "outputs": [],
   "source": []
  },
  {
   "cell_type": "code",
   "execution_count": null,
   "id": "dbdb47b2",
   "metadata": {},
   "outputs": [],
   "source": []
  },
  {
   "cell_type": "code",
   "execution_count": null,
   "id": "c6594b13",
   "metadata": {},
   "outputs": [],
   "source": []
  },
  {
   "cell_type": "code",
   "execution_count": null,
   "id": "deffba1a",
   "metadata": {},
   "outputs": [],
   "source": []
  },
  {
   "cell_type": "code",
   "execution_count": null,
   "id": "11800e54",
   "metadata": {},
   "outputs": [],
   "source": []
  }
 ],
 "metadata": {
  "kernelspec": {
   "display_name": "base",
   "language": "python",
   "name": "python3"
  },
  "language_info": {
   "codemirror_mode": {
    "name": "ipython",
    "version": 3
   },
   "file_extension": ".py",
   "mimetype": "text/x-python",
   "name": "python",
   "nbconvert_exporter": "python",
   "pygments_lexer": "ipython3",
   "version": "3.13.5"
  }
 },
 "nbformat": 4,
 "nbformat_minor": 5
}
