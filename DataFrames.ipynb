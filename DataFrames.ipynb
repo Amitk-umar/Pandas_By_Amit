{
 "cells": [
  {
   "cell_type": "code",
   "execution_count": 32,
   "id": "2dd48b72",
   "metadata": {},
   "outputs": [],
   "source": [
    "import numpy as np\n",
    "import pandas as pd"
   ]
  },
  {
   "cell_type": "markdown",
   "id": "69ebdef8",
   "metadata": {},
   "source": [
    "# Creating a DataFrame by dictionary\n"
   ]
  },
  {
   "cell_type": "code",
   "execution_count": 33,
   "id": "d544dece",
   "metadata": {},
   "outputs": [
    {
     "data": {
      "application/vnd.microsoft.datawrangler.viewer.v0+json": {
       "columns": [
        {
         "name": "index",
         "rawType": "object",
         "type": "string"
        },
        {
         "name": "Name",
         "rawType": "object",
         "type": "string"
        },
        {
         "name": "Age",
         "rawType": "int64",
         "type": "integer"
        },
        {
         "name": "City",
         "rawType": "object",
         "type": "string"
        },
        {
         "name": "Salary",
         "rawType": "int64",
         "type": "integer"
        }
       ],
       "ref": "c490ad9b-d2fb-40be-b1c6-100d43c479ae",
       "rows": [
        [
         "a",
         "Ravi",
         "23",
         "Jaipur",
         "10000"
        ],
        [
         "b",
         "Amit",
         "24",
         "ludhiana",
         "15000"
        ],
        [
         "c",
         "Raghav",
         "22",
         "Delhi",
         "12000"
        ],
        [
         "d",
         "Ankit jangir",
         "25",
         "Agra",
         "18000"
        ],
        [
         "e",
         "Jashanpreet singh",
         "21",
         "Noida",
         "20000"
        ]
       ],
       "shape": {
        "columns": 4,
        "rows": 5
       }
      },
      "text/html": [
       "<div>\n",
       "<style scoped>\n",
       "    .dataframe tbody tr th:only-of-type {\n",
       "        vertical-align: middle;\n",
       "    }\n",
       "\n",
       "    .dataframe tbody tr th {\n",
       "        vertical-align: top;\n",
       "    }\n",
       "\n",
       "    .dataframe thead th {\n",
       "        text-align: right;\n",
       "    }\n",
       "</style>\n",
       "<table border=\"1\" class=\"dataframe\">\n",
       "  <thead>\n",
       "    <tr style=\"text-align: right;\">\n",
       "      <th></th>\n",
       "      <th>Name</th>\n",
       "      <th>Age</th>\n",
       "      <th>City</th>\n",
       "      <th>Salary</th>\n",
       "    </tr>\n",
       "  </thead>\n",
       "  <tbody>\n",
       "    <tr>\n",
       "      <th>a</th>\n",
       "      <td>Ravi</td>\n",
       "      <td>23</td>\n",
       "      <td>Jaipur</td>\n",
       "      <td>10000</td>\n",
       "    </tr>\n",
       "    <tr>\n",
       "      <th>b</th>\n",
       "      <td>Amit</td>\n",
       "      <td>24</td>\n",
       "      <td>ludhiana</td>\n",
       "      <td>15000</td>\n",
       "    </tr>\n",
       "    <tr>\n",
       "      <th>c</th>\n",
       "      <td>Raghav</td>\n",
       "      <td>22</td>\n",
       "      <td>Delhi</td>\n",
       "      <td>12000</td>\n",
       "    </tr>\n",
       "    <tr>\n",
       "      <th>d</th>\n",
       "      <td>Ankit jangir</td>\n",
       "      <td>25</td>\n",
       "      <td>Agra</td>\n",
       "      <td>18000</td>\n",
       "    </tr>\n",
       "    <tr>\n",
       "      <th>e</th>\n",
       "      <td>Jashanpreet singh</td>\n",
       "      <td>21</td>\n",
       "      <td>Noida</td>\n",
       "      <td>20000</td>\n",
       "    </tr>\n",
       "  </tbody>\n",
       "</table>\n",
       "</div>"
      ],
      "text/plain": [
       "                Name  Age      City  Salary\n",
       "a               Ravi   23    Jaipur   10000\n",
       "b               Amit   24  ludhiana   15000\n",
       "c             Raghav   22     Delhi   12000\n",
       "d       Ankit jangir   25      Agra   18000\n",
       "e  Jashanpreet singh   21     Noida   20000"
      ]
     },
     "execution_count": 33,
     "metadata": {},
     "output_type": "execute_result"
    }
   ],
   "source": [
    "data = {\n",
    "    'Name' : ['Ravi', 'Amit', 'Raghav', 'Ankit jangir','Jashanpreet singh'],\n",
    "    'Age' : [23, 24, 22, 25, 21],\n",
    "    'City' : ['Jaipur', 'ludhiana', 'Delhi', 'Agra', 'Noida'],\n",
    "    'Salary' : [10000, 15000, 12000, 18000, 20000]\n",
    "}\n",
    "\n",
    "df = pd.DataFrame(data = data ,index = ['a', 'b', 'c', 'd', 'e'])\n",
    "df"
   ]
  },
  {
   "cell_type": "markdown",
   "id": "54fee0b4",
   "metadata": {},
   "source": [
    "# Creating a DataFrame by List\n"
   ]
  },
  {
   "cell_type": "code",
   "execution_count": 34,
   "id": "0030df7d",
   "metadata": {},
   "outputs": [
    {
     "data": {
      "application/vnd.microsoft.datawrangler.viewer.v0+json": {
       "columns": [
        {
         "name": "index",
         "rawType": "int64",
         "type": "integer"
        },
        {
         "name": "Name",
         "rawType": "object",
         "type": "string"
        },
        {
         "name": "Age",
         "rawType": "int64",
         "type": "integer"
        },
        {
         "name": "City",
         "rawType": "object",
         "type": "string"
        },
        {
         "name": "Salary",
         "rawType": "int64",
         "type": "integer"
        }
       ],
       "ref": "fc3301bd-16ce-48e5-b0cf-acc9c095c6f2",
       "rows": [
        [
         "0",
         "Ravi",
         "23",
         "Jaipur",
         "10000"
        ],
        [
         "1",
         "Amit",
         "24",
         "ludhiana",
         "15000"
        ],
        [
         "2",
         "Raghav",
         "22",
         "Delhi",
         "12000"
        ],
        [
         "3",
         "Ankit jangir",
         "25",
         "Agra",
         "18000"
        ],
        [
         "4",
         "Jashanpreet singh",
         "21",
         "Noida",
         "20000"
        ]
       ],
       "shape": {
        "columns": 4,
        "rows": 5
       }
      },
      "text/html": [
       "<div>\n",
       "<style scoped>\n",
       "    .dataframe tbody tr th:only-of-type {\n",
       "        vertical-align: middle;\n",
       "    }\n",
       "\n",
       "    .dataframe tbody tr th {\n",
       "        vertical-align: top;\n",
       "    }\n",
       "\n",
       "    .dataframe thead th {\n",
       "        text-align: right;\n",
       "    }\n",
       "</style>\n",
       "<table border=\"1\" class=\"dataframe\">\n",
       "  <thead>\n",
       "    <tr style=\"text-align: right;\">\n",
       "      <th></th>\n",
       "      <th>Name</th>\n",
       "      <th>Age</th>\n",
       "      <th>City</th>\n",
       "      <th>Salary</th>\n",
       "    </tr>\n",
       "  </thead>\n",
       "  <tbody>\n",
       "    <tr>\n",
       "      <th>0</th>\n",
       "      <td>Ravi</td>\n",
       "      <td>23</td>\n",
       "      <td>Jaipur</td>\n",
       "      <td>10000</td>\n",
       "    </tr>\n",
       "    <tr>\n",
       "      <th>1</th>\n",
       "      <td>Amit</td>\n",
       "      <td>24</td>\n",
       "      <td>ludhiana</td>\n",
       "      <td>15000</td>\n",
       "    </tr>\n",
       "    <tr>\n",
       "      <th>2</th>\n",
       "      <td>Raghav</td>\n",
       "      <td>22</td>\n",
       "      <td>Delhi</td>\n",
       "      <td>12000</td>\n",
       "    </tr>\n",
       "    <tr>\n",
       "      <th>3</th>\n",
       "      <td>Ankit jangir</td>\n",
       "      <td>25</td>\n",
       "      <td>Agra</td>\n",
       "      <td>18000</td>\n",
       "    </tr>\n",
       "    <tr>\n",
       "      <th>4</th>\n",
       "      <td>Jashanpreet singh</td>\n",
       "      <td>21</td>\n",
       "      <td>Noida</td>\n",
       "      <td>20000</td>\n",
       "    </tr>\n",
       "  </tbody>\n",
       "</table>\n",
       "</div>"
      ],
      "text/plain": [
       "                Name  Age      City  Salary\n",
       "0               Ravi   23    Jaipur   10000\n",
       "1               Amit   24  ludhiana   15000\n",
       "2             Raghav   22     Delhi   12000\n",
       "3       Ankit jangir   25      Agra   18000\n",
       "4  Jashanpreet singh   21     Noida   20000"
      ]
     },
     "execution_count": 34,
     "metadata": {},
     "output_type": "execute_result"
    }
   ],
   "source": [
    "data_list = [['Ravi', 23, 'Jaipur', 10000],\n",
    "    ['Amit', 24, 'ludhiana', 15000],\n",
    "    ['Raghav', 22, 'Delhi', 12000],\n",
    "    ['Ankit jangir', 25, 'Agra', 18000],\n",
    "    ['Jashanpreet singh', 21, 'Noida', 20000]\n",
    "]\n",
    "df2 = pd.DataFrame(data_list, columns=['Name', 'Age', 'City', 'Salary'])\n",
    "df2\n"
   ]
  },
  {
   "cell_type": "markdown",
   "id": "6664e107",
   "metadata": {},
   "source": [
    "# Selection and indexing of column in a DataFrame"
   ]
  },
  {
   "cell_type": "code",
   "execution_count": 35,
   "id": "9bf0084c",
   "metadata": {},
   "outputs": [
    {
     "data": {
      "application/vnd.microsoft.datawrangler.viewer.v0+json": {
       "columns": [
        {
         "name": "index",
         "rawType": "int64",
         "type": "integer"
        },
        {
         "name": "Name",
         "rawType": "object",
         "type": "string"
        },
        {
         "name": "Age",
         "rawType": "int64",
         "type": "integer"
        },
        {
         "name": "City",
         "rawType": "object",
         "type": "string"
        },
        {
         "name": "Salary",
         "rawType": "int64",
         "type": "integer"
        }
       ],
       "ref": "47bb96da-db8a-476a-93e5-cf7bf13291c9",
       "rows": [
        [
         "0",
         "Ravi",
         "23",
         "Jaipur",
         "10000"
        ],
        [
         "1",
         "Amit",
         "24",
         "ludhiana",
         "15000"
        ],
        [
         "2",
         "Raghav",
         "22",
         "Delhi",
         "12000"
        ],
        [
         "3",
         "Ankit jangir",
         "25",
         "Agra",
         "18000"
        ],
        [
         "4",
         "Jashanpreet singh",
         "21",
         "Noida",
         "20000"
        ]
       ],
       "shape": {
        "columns": 4,
        "rows": 5
       }
      },
      "text/html": [
       "<div>\n",
       "<style scoped>\n",
       "    .dataframe tbody tr th:only-of-type {\n",
       "        vertical-align: middle;\n",
       "    }\n",
       "\n",
       "    .dataframe tbody tr th {\n",
       "        vertical-align: top;\n",
       "    }\n",
       "\n",
       "    .dataframe thead th {\n",
       "        text-align: right;\n",
       "    }\n",
       "</style>\n",
       "<table border=\"1\" class=\"dataframe\">\n",
       "  <thead>\n",
       "    <tr style=\"text-align: right;\">\n",
       "      <th></th>\n",
       "      <th>Name</th>\n",
       "      <th>Age</th>\n",
       "      <th>City</th>\n",
       "      <th>Salary</th>\n",
       "    </tr>\n",
       "  </thead>\n",
       "  <tbody>\n",
       "    <tr>\n",
       "      <th>0</th>\n",
       "      <td>Ravi</td>\n",
       "      <td>23</td>\n",
       "      <td>Jaipur</td>\n",
       "      <td>10000</td>\n",
       "    </tr>\n",
       "    <tr>\n",
       "      <th>1</th>\n",
       "      <td>Amit</td>\n",
       "      <td>24</td>\n",
       "      <td>ludhiana</td>\n",
       "      <td>15000</td>\n",
       "    </tr>\n",
       "    <tr>\n",
       "      <th>2</th>\n",
       "      <td>Raghav</td>\n",
       "      <td>22</td>\n",
       "      <td>Delhi</td>\n",
       "      <td>12000</td>\n",
       "    </tr>\n",
       "    <tr>\n",
       "      <th>3</th>\n",
       "      <td>Ankit jangir</td>\n",
       "      <td>25</td>\n",
       "      <td>Agra</td>\n",
       "      <td>18000</td>\n",
       "    </tr>\n",
       "    <tr>\n",
       "      <th>4</th>\n",
       "      <td>Jashanpreet singh</td>\n",
       "      <td>21</td>\n",
       "      <td>Noida</td>\n",
       "      <td>20000</td>\n",
       "    </tr>\n",
       "  </tbody>\n",
       "</table>\n",
       "</div>"
      ],
      "text/plain": [
       "                Name  Age      City  Salary\n",
       "0               Ravi   23    Jaipur   10000\n",
       "1               Amit   24  ludhiana   15000\n",
       "2             Raghav   22     Delhi   12000\n",
       "3       Ankit jangir   25      Agra   18000\n",
       "4  Jashanpreet singh   21     Noida   20000"
      ]
     },
     "execution_count": 35,
     "metadata": {},
     "output_type": "execute_result"
    }
   ],
   "source": [
    "df2"
   ]
  },
  {
   "cell_type": "code",
   "execution_count": 36,
   "id": "29b1c8ea",
   "metadata": {},
   "outputs": [
    {
     "data": {
      "application/vnd.microsoft.datawrangler.viewer.v0+json": {
       "columns": [
        {
         "name": "index",
         "rawType": "int64",
         "type": "integer"
        },
        {
         "name": "Name",
         "rawType": "object",
         "type": "string"
        },
        {
         "name": "City",
         "rawType": "object",
         "type": "string"
        }
       ],
       "ref": "44a7d27f-f4f0-4a38-906d-f3b7caa308d9",
       "rows": [
        [
         "0",
         "Ravi",
         "Jaipur"
        ],
        [
         "1",
         "Amit",
         "ludhiana"
        ],
        [
         "2",
         "Raghav",
         "Delhi"
        ],
        [
         "3",
         "Ankit jangir",
         "Agra"
        ],
        [
         "4",
         "Jashanpreet singh",
         "Noida"
        ]
       ],
       "shape": {
        "columns": 2,
        "rows": 5
       }
      },
      "text/html": [
       "<div>\n",
       "<style scoped>\n",
       "    .dataframe tbody tr th:only-of-type {\n",
       "        vertical-align: middle;\n",
       "    }\n",
       "\n",
       "    .dataframe tbody tr th {\n",
       "        vertical-align: top;\n",
       "    }\n",
       "\n",
       "    .dataframe thead th {\n",
       "        text-align: right;\n",
       "    }\n",
       "</style>\n",
       "<table border=\"1\" class=\"dataframe\">\n",
       "  <thead>\n",
       "    <tr style=\"text-align: right;\">\n",
       "      <th></th>\n",
       "      <th>Name</th>\n",
       "      <th>City</th>\n",
       "    </tr>\n",
       "  </thead>\n",
       "  <tbody>\n",
       "    <tr>\n",
       "      <th>0</th>\n",
       "      <td>Ravi</td>\n",
       "      <td>Jaipur</td>\n",
       "    </tr>\n",
       "    <tr>\n",
       "      <th>1</th>\n",
       "      <td>Amit</td>\n",
       "      <td>ludhiana</td>\n",
       "    </tr>\n",
       "    <tr>\n",
       "      <th>2</th>\n",
       "      <td>Raghav</td>\n",
       "      <td>Delhi</td>\n",
       "    </tr>\n",
       "    <tr>\n",
       "      <th>3</th>\n",
       "      <td>Ankit jangir</td>\n",
       "      <td>Agra</td>\n",
       "    </tr>\n",
       "    <tr>\n",
       "      <th>4</th>\n",
       "      <td>Jashanpreet singh</td>\n",
       "      <td>Noida</td>\n",
       "    </tr>\n",
       "  </tbody>\n",
       "</table>\n",
       "</div>"
      ],
      "text/plain": [
       "                Name      City\n",
       "0               Ravi    Jaipur\n",
       "1               Amit  ludhiana\n",
       "2             Raghav     Delhi\n",
       "3       Ankit jangir      Agra\n",
       "4  Jashanpreet singh     Noida"
      ]
     },
     "execution_count": 36,
     "metadata": {},
     "output_type": "execute_result"
    }
   ],
   "source": [
    "# name_df = df2['Name']  # Selecting the 'Name' column   \n",
    "# name_df  \n",
    "\n",
    "df_1 = pd.DataFrame(df2[['Name', 'City']]) # Selecting multiple columns\n",
    "df_1\n",
    "\n",
    "# df_2 = df2.iloc[0]  # Selecting the first row \n",
    "# df_2"
   ]
  },
  {
   "cell_type": "markdown",
   "id": "c54d1f38",
   "metadata": {},
   "source": [
    "# Creating or Adding a new column in a DataFrame"
   ]
  },
  {
   "cell_type": "code",
   "execution_count": 37,
   "id": "286b6ebd",
   "metadata": {},
   "outputs": [
    {
     "data": {
      "application/vnd.microsoft.datawrangler.viewer.v0+json": {
       "columns": [
        {
         "name": "index",
         "rawType": "int64",
         "type": "integer"
        },
        {
         "name": "Name",
         "rawType": "object",
         "type": "string"
        },
        {
         "name": "Age",
         "rawType": "int64",
         "type": "integer"
        },
        {
         "name": "City",
         "rawType": "object",
         "type": "string"
        },
        {
         "name": "Salary",
         "rawType": "int64",
         "type": "integer"
        }
       ],
       "ref": "a9480c02-9394-4a6d-9c4a-aa3d131b5f88",
       "rows": [
        [
         "0",
         "Ravi",
         "23",
         "Jaipur",
         "10000"
        ],
        [
         "1",
         "Amit",
         "24",
         "ludhiana",
         "15000"
        ],
        [
         "2",
         "Raghav",
         "22",
         "Delhi",
         "12000"
        ],
        [
         "3",
         "Ankit jangir",
         "25",
         "Agra",
         "18000"
        ],
        [
         "4",
         "Jashanpreet singh",
         "21",
         "Noida",
         "20000"
        ]
       ],
       "shape": {
        "columns": 4,
        "rows": 5
       }
      },
      "text/html": [
       "<div>\n",
       "<style scoped>\n",
       "    .dataframe tbody tr th:only-of-type {\n",
       "        vertical-align: middle;\n",
       "    }\n",
       "\n",
       "    .dataframe tbody tr th {\n",
       "        vertical-align: top;\n",
       "    }\n",
       "\n",
       "    .dataframe thead th {\n",
       "        text-align: right;\n",
       "    }\n",
       "</style>\n",
       "<table border=\"1\" class=\"dataframe\">\n",
       "  <thead>\n",
       "    <tr style=\"text-align: right;\">\n",
       "      <th></th>\n",
       "      <th>Name</th>\n",
       "      <th>Age</th>\n",
       "      <th>City</th>\n",
       "      <th>Salary</th>\n",
       "    </tr>\n",
       "  </thead>\n",
       "  <tbody>\n",
       "    <tr>\n",
       "      <th>0</th>\n",
       "      <td>Ravi</td>\n",
       "      <td>23</td>\n",
       "      <td>Jaipur</td>\n",
       "      <td>10000</td>\n",
       "    </tr>\n",
       "    <tr>\n",
       "      <th>1</th>\n",
       "      <td>Amit</td>\n",
       "      <td>24</td>\n",
       "      <td>ludhiana</td>\n",
       "      <td>15000</td>\n",
       "    </tr>\n",
       "    <tr>\n",
       "      <th>2</th>\n",
       "      <td>Raghav</td>\n",
       "      <td>22</td>\n",
       "      <td>Delhi</td>\n",
       "      <td>12000</td>\n",
       "    </tr>\n",
       "    <tr>\n",
       "      <th>3</th>\n",
       "      <td>Ankit jangir</td>\n",
       "      <td>25</td>\n",
       "      <td>Agra</td>\n",
       "      <td>18000</td>\n",
       "    </tr>\n",
       "    <tr>\n",
       "      <th>4</th>\n",
       "      <td>Jashanpreet singh</td>\n",
       "      <td>21</td>\n",
       "      <td>Noida</td>\n",
       "      <td>20000</td>\n",
       "    </tr>\n",
       "  </tbody>\n",
       "</table>\n",
       "</div>"
      ],
      "text/plain": [
       "                Name  Age      City  Salary\n",
       "0               Ravi   23    Jaipur   10000\n",
       "1               Amit   24  ludhiana   15000\n",
       "2             Raghav   22     Delhi   12000\n",
       "3       Ankit jangir   25      Agra   18000\n",
       "4  Jashanpreet singh   21     Noida   20000"
      ]
     },
     "execution_count": 37,
     "metadata": {},
     "output_type": "execute_result"
    }
   ],
   "source": [
    "df2"
   ]
  },
  {
   "cell_type": "code",
   "execution_count": 38,
   "id": "c03a7fd3",
   "metadata": {},
   "outputs": [
    {
     "data": {
      "application/vnd.microsoft.datawrangler.viewer.v0+json": {
       "columns": [
        {
         "name": "index",
         "rawType": "int64",
         "type": "integer"
        },
        {
         "name": "Name",
         "rawType": "object",
         "type": "string"
        },
        {
         "name": "Age",
         "rawType": "int64",
         "type": "integer"
        },
        {
         "name": "City",
         "rawType": "object",
         "type": "string"
        },
        {
         "name": "Salary",
         "rawType": "int64",
         "type": "integer"
        },
        {
         "name": "Designation",
         "rawType": "object",
         "type": "string"
        }
       ],
       "ref": "997781fb-7d55-4d78-b646-e2fc766e072a",
       "rows": [
        [
         "0",
         "Ravi",
         "23",
         "Jaipur",
         "10000",
         "Engineer"
        ],
        [
         "1",
         "Amit",
         "24",
         "ludhiana",
         "15000",
         "Doctor"
        ],
        [
         "2",
         "Raghav",
         "22",
         "Delhi",
         "12000",
         "Teacher"
        ],
        [
         "3",
         "Ankit jangir",
         "25",
         "Agra",
         "18000",
         "Artist"
        ],
        [
         "4",
         "Jashanpreet singh",
         "21",
         "Noida",
         "20000",
         "Scientist"
        ]
       ],
       "shape": {
        "columns": 5,
        "rows": 5
       }
      },
      "text/html": [
       "<div>\n",
       "<style scoped>\n",
       "    .dataframe tbody tr th:only-of-type {\n",
       "        vertical-align: middle;\n",
       "    }\n",
       "\n",
       "    .dataframe tbody tr th {\n",
       "        vertical-align: top;\n",
       "    }\n",
       "\n",
       "    .dataframe thead th {\n",
       "        text-align: right;\n",
       "    }\n",
       "</style>\n",
       "<table border=\"1\" class=\"dataframe\">\n",
       "  <thead>\n",
       "    <tr style=\"text-align: right;\">\n",
       "      <th></th>\n",
       "      <th>Name</th>\n",
       "      <th>Age</th>\n",
       "      <th>City</th>\n",
       "      <th>Salary</th>\n",
       "      <th>Designation</th>\n",
       "    </tr>\n",
       "  </thead>\n",
       "  <tbody>\n",
       "    <tr>\n",
       "      <th>0</th>\n",
       "      <td>Ravi</td>\n",
       "      <td>23</td>\n",
       "      <td>Jaipur</td>\n",
       "      <td>10000</td>\n",
       "      <td>Engineer</td>\n",
       "    </tr>\n",
       "    <tr>\n",
       "      <th>1</th>\n",
       "      <td>Amit</td>\n",
       "      <td>24</td>\n",
       "      <td>ludhiana</td>\n",
       "      <td>15000</td>\n",
       "      <td>Doctor</td>\n",
       "    </tr>\n",
       "    <tr>\n",
       "      <th>2</th>\n",
       "      <td>Raghav</td>\n",
       "      <td>22</td>\n",
       "      <td>Delhi</td>\n",
       "      <td>12000</td>\n",
       "      <td>Teacher</td>\n",
       "    </tr>\n",
       "    <tr>\n",
       "      <th>3</th>\n",
       "      <td>Ankit jangir</td>\n",
       "      <td>25</td>\n",
       "      <td>Agra</td>\n",
       "      <td>18000</td>\n",
       "      <td>Artist</td>\n",
       "    </tr>\n",
       "    <tr>\n",
       "      <th>4</th>\n",
       "      <td>Jashanpreet singh</td>\n",
       "      <td>21</td>\n",
       "      <td>Noida</td>\n",
       "      <td>20000</td>\n",
       "      <td>Scientist</td>\n",
       "    </tr>\n",
       "  </tbody>\n",
       "</table>\n",
       "</div>"
      ],
      "text/plain": [
       "                Name  Age      City  Salary Designation\n",
       "0               Ravi   23    Jaipur   10000    Engineer\n",
       "1               Amit   24  ludhiana   15000      Doctor\n",
       "2             Raghav   22     Delhi   12000     Teacher\n",
       "3       Ankit jangir   25      Agra   18000      Artist\n",
       "4  Jashanpreet singh   21     Noida   20000   Scientist"
      ]
     },
     "execution_count": 38,
     "metadata": {},
     "output_type": "execute_result"
    }
   ],
   "source": [
    "df2[\"Designation\"] = ['Engineer', 'Doctor', 'Teacher', 'Artist', 'Scientist']  # Creating a new column\n",
    "df2"
   ]
  },
  {
   "cell_type": "markdown",
   "id": "924e58e1",
   "metadata": {},
   "source": [
    "# Removing a column from a DataFrame"
   ]
  },
  {
   "cell_type": "code",
   "execution_count": 39,
   "id": "ec6c926a",
   "metadata": {},
   "outputs": [
    {
     "data": {
      "application/vnd.microsoft.datawrangler.viewer.v0+json": {
       "columns": [
        {
         "name": "index",
         "rawType": "int64",
         "type": "integer"
        },
        {
         "name": "Name",
         "rawType": "object",
         "type": "string"
        },
        {
         "name": "Age",
         "rawType": "int64",
         "type": "integer"
        },
        {
         "name": "City",
         "rawType": "object",
         "type": "string"
        },
        {
         "name": "Salary",
         "rawType": "int64",
         "type": "integer"
        },
        {
         "name": "Designation",
         "rawType": "object",
         "type": "string"
        }
       ],
       "ref": "e62d475e-de12-4f6d-b69f-2823e96cde54",
       "rows": [
        [
         "0",
         "Ravi",
         "23",
         "Jaipur",
         "10000",
         "Engineer"
        ],
        [
         "1",
         "Amit",
         "24",
         "ludhiana",
         "15000",
         "Doctor"
        ],
        [
         "2",
         "Raghav",
         "22",
         "Delhi",
         "12000",
         "Teacher"
        ],
        [
         "3",
         "Ankit jangir",
         "25",
         "Agra",
         "18000",
         "Artist"
        ],
        [
         "4",
         "Jashanpreet singh",
         "21",
         "Noida",
         "20000",
         "Scientist"
        ]
       ],
       "shape": {
        "columns": 5,
        "rows": 5
       }
      },
      "text/html": [
       "<div>\n",
       "<style scoped>\n",
       "    .dataframe tbody tr th:only-of-type {\n",
       "        vertical-align: middle;\n",
       "    }\n",
       "\n",
       "    .dataframe tbody tr th {\n",
       "        vertical-align: top;\n",
       "    }\n",
       "\n",
       "    .dataframe thead th {\n",
       "        text-align: right;\n",
       "    }\n",
       "</style>\n",
       "<table border=\"1\" class=\"dataframe\">\n",
       "  <thead>\n",
       "    <tr style=\"text-align: right;\">\n",
       "      <th></th>\n",
       "      <th>Name</th>\n",
       "      <th>Age</th>\n",
       "      <th>City</th>\n",
       "      <th>Salary</th>\n",
       "      <th>Designation</th>\n",
       "    </tr>\n",
       "  </thead>\n",
       "  <tbody>\n",
       "    <tr>\n",
       "      <th>0</th>\n",
       "      <td>Ravi</td>\n",
       "      <td>23</td>\n",
       "      <td>Jaipur</td>\n",
       "      <td>10000</td>\n",
       "      <td>Engineer</td>\n",
       "    </tr>\n",
       "    <tr>\n",
       "      <th>1</th>\n",
       "      <td>Amit</td>\n",
       "      <td>24</td>\n",
       "      <td>ludhiana</td>\n",
       "      <td>15000</td>\n",
       "      <td>Doctor</td>\n",
       "    </tr>\n",
       "    <tr>\n",
       "      <th>2</th>\n",
       "      <td>Raghav</td>\n",
       "      <td>22</td>\n",
       "      <td>Delhi</td>\n",
       "      <td>12000</td>\n",
       "      <td>Teacher</td>\n",
       "    </tr>\n",
       "    <tr>\n",
       "      <th>3</th>\n",
       "      <td>Ankit jangir</td>\n",
       "      <td>25</td>\n",
       "      <td>Agra</td>\n",
       "      <td>18000</td>\n",
       "      <td>Artist</td>\n",
       "    </tr>\n",
       "    <tr>\n",
       "      <th>4</th>\n",
       "      <td>Jashanpreet singh</td>\n",
       "      <td>21</td>\n",
       "      <td>Noida</td>\n",
       "      <td>20000</td>\n",
       "      <td>Scientist</td>\n",
       "    </tr>\n",
       "  </tbody>\n",
       "</table>\n",
       "</div>"
      ],
      "text/plain": [
       "                Name  Age      City  Salary Designation\n",
       "0               Ravi   23    Jaipur   10000    Engineer\n",
       "1               Amit   24  ludhiana   15000      Doctor\n",
       "2             Raghav   22     Delhi   12000     Teacher\n",
       "3       Ankit jangir   25      Agra   18000      Artist\n",
       "4  Jashanpreet singh   21     Noida   20000   Scientist"
      ]
     },
     "execution_count": 39,
     "metadata": {},
     "output_type": "execute_result"
    }
   ],
   "source": [
    "df2"
   ]
  },
  {
   "cell_type": "code",
   "execution_count": 40,
   "id": "1b6ee655",
   "metadata": {},
   "outputs": [
    {
     "data": {
      "application/vnd.microsoft.datawrangler.viewer.v0+json": {
       "columns": [
        {
         "name": "index",
         "rawType": "int64",
         "type": "integer"
        },
        {
         "name": "Name",
         "rawType": "object",
         "type": "string"
        },
        {
         "name": "Age",
         "rawType": "int64",
         "type": "integer"
        },
        {
         "name": "City",
         "rawType": "object",
         "type": "string"
        },
        {
         "name": "Salary",
         "rawType": "int64",
         "type": "integer"
        }
       ],
       "ref": "d09b74b6-5c5c-4fe2-83d4-dc4eb10c5684",
       "rows": [
        [
         "0",
         "Ravi",
         "23",
         "Jaipur",
         "10000"
        ],
        [
         "1",
         "Amit",
         "24",
         "ludhiana",
         "15000"
        ],
        [
         "2",
         "Raghav",
         "22",
         "Delhi",
         "12000"
        ],
        [
         "3",
         "Ankit jangir",
         "25",
         "Agra",
         "18000"
        ],
        [
         "4",
         "Jashanpreet singh",
         "21",
         "Noida",
         "20000"
        ]
       ],
       "shape": {
        "columns": 4,
        "rows": 5
       }
      },
      "text/html": [
       "<div>\n",
       "<style scoped>\n",
       "    .dataframe tbody tr th:only-of-type {\n",
       "        vertical-align: middle;\n",
       "    }\n",
       "\n",
       "    .dataframe tbody tr th {\n",
       "        vertical-align: top;\n",
       "    }\n",
       "\n",
       "    .dataframe thead th {\n",
       "        text-align: right;\n",
       "    }\n",
       "</style>\n",
       "<table border=\"1\" class=\"dataframe\">\n",
       "  <thead>\n",
       "    <tr style=\"text-align: right;\">\n",
       "      <th></th>\n",
       "      <th>Name</th>\n",
       "      <th>Age</th>\n",
       "      <th>City</th>\n",
       "      <th>Salary</th>\n",
       "    </tr>\n",
       "  </thead>\n",
       "  <tbody>\n",
       "    <tr>\n",
       "      <th>0</th>\n",
       "      <td>Ravi</td>\n",
       "      <td>23</td>\n",
       "      <td>Jaipur</td>\n",
       "      <td>10000</td>\n",
       "    </tr>\n",
       "    <tr>\n",
       "      <th>1</th>\n",
       "      <td>Amit</td>\n",
       "      <td>24</td>\n",
       "      <td>ludhiana</td>\n",
       "      <td>15000</td>\n",
       "    </tr>\n",
       "    <tr>\n",
       "      <th>2</th>\n",
       "      <td>Raghav</td>\n",
       "      <td>22</td>\n",
       "      <td>Delhi</td>\n",
       "      <td>12000</td>\n",
       "    </tr>\n",
       "    <tr>\n",
       "      <th>3</th>\n",
       "      <td>Ankit jangir</td>\n",
       "      <td>25</td>\n",
       "      <td>Agra</td>\n",
       "      <td>18000</td>\n",
       "    </tr>\n",
       "    <tr>\n",
       "      <th>4</th>\n",
       "      <td>Jashanpreet singh</td>\n",
       "      <td>21</td>\n",
       "      <td>Noida</td>\n",
       "      <td>20000</td>\n",
       "    </tr>\n",
       "  </tbody>\n",
       "</table>\n",
       "</div>"
      ],
      "text/plain": [
       "                Name  Age      City  Salary\n",
       "0               Ravi   23    Jaipur   10000\n",
       "1               Amit   24  ludhiana   15000\n",
       "2             Raghav   22     Delhi   12000\n",
       "3       Ankit jangir   25      Agra   18000\n",
       "4  Jashanpreet singh   21     Noida   20000"
      ]
     },
     "execution_count": 40,
     "metadata": {},
     "output_type": "execute_result"
    }
   ],
   "source": [
    "df2.drop('Designation',axis=1,inplace=True) # inplace=True means that the changes will be applied to the original DataFrame\n",
    "df2"
   ]
  },
  {
   "cell_type": "code",
   "execution_count": 41,
   "id": "13a5e1f1",
   "metadata": {},
   "outputs": [
    {
     "data": {
      "application/vnd.microsoft.datawrangler.viewer.v0+json": {
       "columns": [
        {
         "name": "index",
         "rawType": "int64",
         "type": "integer"
        },
        {
         "name": "Name",
         "rawType": "object",
         "type": "string"
        },
        {
         "name": "Age",
         "rawType": "int64",
         "type": "integer"
        },
        {
         "name": "City",
         "rawType": "object",
         "type": "string"
        },
        {
         "name": "Salary",
         "rawType": "int64",
         "type": "integer"
        }
       ],
       "ref": "28adae5e-d0a5-46ba-ac47-db1629b8b64d",
       "rows": [
        [
         "0",
         "Ravi",
         "23",
         "Jaipur",
         "10000"
        ],
        [
         "1",
         "Amit",
         "24",
         "ludhiana",
         "15000"
        ],
        [
         "2",
         "Raghav",
         "22",
         "Delhi",
         "12000"
        ],
        [
         "3",
         "Ankit jangir",
         "25",
         "Agra",
         "18000"
        ],
        [
         "4",
         "Jashanpreet singh",
         "21",
         "Noida",
         "20000"
        ]
       ],
       "shape": {
        "columns": 4,
        "rows": 5
       }
      },
      "text/html": [
       "<div>\n",
       "<style scoped>\n",
       "    .dataframe tbody tr th:only-of-type {\n",
       "        vertical-align: middle;\n",
       "    }\n",
       "\n",
       "    .dataframe tbody tr th {\n",
       "        vertical-align: top;\n",
       "    }\n",
       "\n",
       "    .dataframe thead th {\n",
       "        text-align: right;\n",
       "    }\n",
       "</style>\n",
       "<table border=\"1\" class=\"dataframe\">\n",
       "  <thead>\n",
       "    <tr style=\"text-align: right;\">\n",
       "      <th></th>\n",
       "      <th>Name</th>\n",
       "      <th>Age</th>\n",
       "      <th>City</th>\n",
       "      <th>Salary</th>\n",
       "    </tr>\n",
       "  </thead>\n",
       "  <tbody>\n",
       "    <tr>\n",
       "      <th>0</th>\n",
       "      <td>Ravi</td>\n",
       "      <td>23</td>\n",
       "      <td>Jaipur</td>\n",
       "      <td>10000</td>\n",
       "    </tr>\n",
       "    <tr>\n",
       "      <th>1</th>\n",
       "      <td>Amit</td>\n",
       "      <td>24</td>\n",
       "      <td>ludhiana</td>\n",
       "      <td>15000</td>\n",
       "    </tr>\n",
       "    <tr>\n",
       "      <th>2</th>\n",
       "      <td>Raghav</td>\n",
       "      <td>22</td>\n",
       "      <td>Delhi</td>\n",
       "      <td>12000</td>\n",
       "    </tr>\n",
       "    <tr>\n",
       "      <th>3</th>\n",
       "      <td>Ankit jangir</td>\n",
       "      <td>25</td>\n",
       "      <td>Agra</td>\n",
       "      <td>18000</td>\n",
       "    </tr>\n",
       "    <tr>\n",
       "      <th>4</th>\n",
       "      <td>Jashanpreet singh</td>\n",
       "      <td>21</td>\n",
       "      <td>Noida</td>\n",
       "      <td>20000</td>\n",
       "    </tr>\n",
       "  </tbody>\n",
       "</table>\n",
       "</div>"
      ],
      "text/plain": [
       "                Name  Age      City  Salary\n",
       "0               Ravi   23    Jaipur   10000\n",
       "1               Amit   24  ludhiana   15000\n",
       "2             Raghav   22     Delhi   12000\n",
       "3       Ankit jangir   25      Agra   18000\n",
       "4  Jashanpreet singh   21     Noida   20000"
      ]
     },
     "execution_count": 41,
     "metadata": {},
     "output_type": "execute_result"
    }
   ],
   "source": [
    "df2.drop(['City', 'Salary'], axis=1)  # Removing multiple columns\n",
    "df2"
   ]
  },
  {
   "cell_type": "code",
   "execution_count": 42,
   "id": "56bbafc1",
   "metadata": {},
   "outputs": [
    {
     "data": {
      "application/vnd.microsoft.datawrangler.viewer.v0+json": {
       "columns": [
        {
         "name": "index",
         "rawType": "int64",
         "type": "integer"
        },
        {
         "name": "Name",
         "rawType": "object",
         "type": "string"
        },
        {
         "name": "Age",
         "rawType": "int64",
         "type": "integer"
        },
        {
         "name": "City",
         "rawType": "object",
         "type": "string"
        },
        {
         "name": "Salary",
         "rawType": "int64",
         "type": "integer"
        }
       ],
       "ref": "4ccfe723-38d3-4faa-9961-d51d5ff04929",
       "rows": [
        [
         "0",
         "Ravi",
         "23",
         "Jaipur",
         "10000"
        ],
        [
         "1",
         "Amit",
         "24",
         "ludhiana",
         "15000"
        ],
        [
         "2",
         "Raghav",
         "22",
         "Delhi",
         "12000"
        ],
        [
         "3",
         "Ankit jangir",
         "25",
         "Agra",
         "18000"
        ],
        [
         "4",
         "Jashanpreet singh",
         "21",
         "Noida",
         "20000"
        ]
       ],
       "shape": {
        "columns": 4,
        "rows": 5
       }
      },
      "text/html": [
       "<div>\n",
       "<style scoped>\n",
       "    .dataframe tbody tr th:only-of-type {\n",
       "        vertical-align: middle;\n",
       "    }\n",
       "\n",
       "    .dataframe tbody tr th {\n",
       "        vertical-align: top;\n",
       "    }\n",
       "\n",
       "    .dataframe thead th {\n",
       "        text-align: right;\n",
       "    }\n",
       "</style>\n",
       "<table border=\"1\" class=\"dataframe\">\n",
       "  <thead>\n",
       "    <tr style=\"text-align: right;\">\n",
       "      <th></th>\n",
       "      <th>Name</th>\n",
       "      <th>Age</th>\n",
       "      <th>City</th>\n",
       "      <th>Salary</th>\n",
       "    </tr>\n",
       "  </thead>\n",
       "  <tbody>\n",
       "    <tr>\n",
       "      <th>0</th>\n",
       "      <td>Ravi</td>\n",
       "      <td>23</td>\n",
       "      <td>Jaipur</td>\n",
       "      <td>10000</td>\n",
       "    </tr>\n",
       "    <tr>\n",
       "      <th>1</th>\n",
       "      <td>Amit</td>\n",
       "      <td>24</td>\n",
       "      <td>ludhiana</td>\n",
       "      <td>15000</td>\n",
       "    </tr>\n",
       "    <tr>\n",
       "      <th>2</th>\n",
       "      <td>Raghav</td>\n",
       "      <td>22</td>\n",
       "      <td>Delhi</td>\n",
       "      <td>12000</td>\n",
       "    </tr>\n",
       "    <tr>\n",
       "      <th>3</th>\n",
       "      <td>Ankit jangir</td>\n",
       "      <td>25</td>\n",
       "      <td>Agra</td>\n",
       "      <td>18000</td>\n",
       "    </tr>\n",
       "    <tr>\n",
       "      <th>4</th>\n",
       "      <td>Jashanpreet singh</td>\n",
       "      <td>21</td>\n",
       "      <td>Noida</td>\n",
       "      <td>20000</td>\n",
       "    </tr>\n",
       "  </tbody>\n",
       "</table>\n",
       "</div>"
      ],
      "text/plain": [
       "                Name  Age      City  Salary\n",
       "0               Ravi   23    Jaipur   10000\n",
       "1               Amit   24  ludhiana   15000\n",
       "2             Raghav   22     Delhi   12000\n",
       "3       Ankit jangir   25      Agra   18000\n",
       "4  Jashanpreet singh   21     Noida   20000"
      ]
     },
     "execution_count": 42,
     "metadata": {},
     "output_type": "execute_result"
    }
   ],
   "source": [
    "df2.drop(0,axis=0,)\n",
    "df2"
   ]
  },
  {
   "cell_type": "code",
   "execution_count": null,
   "id": "fbdce22b",
   "metadata": {},
   "outputs": [],
   "source": []
  }
 ],
 "metadata": {
  "kernelspec": {
   "display_name": "Python 3 (ipykernel)",
   "language": "python",
   "name": "python3"
  },
  "language_info": {
   "codemirror_mode": {
    "name": "ipython",
    "version": 3
   },
   "file_extension": ".py",
   "mimetype": "text/x-python",
   "name": "python",
   "nbconvert_exporter": "python",
   "pygments_lexer": "ipython3",
   "version": "3.13.5"
  }
 },
 "nbformat": 4,
 "nbformat_minor": 5
}
