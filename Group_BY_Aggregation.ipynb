{
 "cells": [
  {
   "cell_type": "code",
   "execution_count": 10,
   "id": "a6d18f2c",
   "metadata": {},
   "outputs": [],
   "source": [
    "import numpy as np\n",
    "import pandas as pd"
   ]
  },
  {
   "cell_type": "markdown",
   "id": "ca86dc90",
   "metadata": {},
   "source": [
    "# GroupBy"
   ]
  },
  {
   "cell_type": "code",
   "execution_count": 11,
   "id": "967db1f0",
   "metadata": {},
   "outputs": [],
   "source": [
    "data ={\n",
    "    'Categories': ['A', 'B', 'A', 'B', 'A', 'B','A','B'],\n",
    "    'store': ['store1', 'store1', 'store2', 'store2', 'store1', 'store2', 'store2', 'store1'],\n",
    "    'sales': [100, 200, 150, 250, 300, 400, 350, 450],\n",
    "    'Quatity': [10, 20, 15, 25, 30, 40, 35, 45],\n",
    "    'Date':pd.date_range('2025-01-01', periods=8)\n",
    "        \n",
    "}\n",
    "df = pd.DataFrame(data)"
   ]
  },
  {
   "cell_type": "code",
   "execution_count": 12,
   "id": "7f44da75",
   "metadata": {},
   "outputs": [
    {
     "data": {
      "application/vnd.microsoft.datawrangler.viewer.v0+json": {
       "columns": [
        {
         "name": "index",
         "rawType": "int64",
         "type": "integer"
        },
        {
         "name": "Categories",
         "rawType": "object",
         "type": "string"
        },
        {
         "name": "store",
         "rawType": "object",
         "type": "string"
        },
        {
         "name": "sales",
         "rawType": "int64",
         "type": "integer"
        },
        {
         "name": "Quatity",
         "rawType": "int64",
         "type": "integer"
        },
        {
         "name": "Date",
         "rawType": "datetime64[ns]",
         "type": "datetime"
        }
       ],
       "ref": "53017f3b-ca27-45e3-a758-1d64c3dc3719",
       "rows": [
        [
         "0",
         "A",
         "store1",
         "100",
         "10",
         "2025-01-01 00:00:00"
        ],
        [
         "1",
         "B",
         "store1",
         "200",
         "20",
         "2025-01-02 00:00:00"
        ],
        [
         "2",
         "A",
         "store2",
         "150",
         "15",
         "2025-01-03 00:00:00"
        ],
        [
         "3",
         "B",
         "store2",
         "250",
         "25",
         "2025-01-04 00:00:00"
        ],
        [
         "4",
         "A",
         "store1",
         "300",
         "30",
         "2025-01-05 00:00:00"
        ],
        [
         "5",
         "B",
         "store2",
         "400",
         "40",
         "2025-01-06 00:00:00"
        ],
        [
         "6",
         "A",
         "store2",
         "350",
         "35",
         "2025-01-07 00:00:00"
        ],
        [
         "7",
         "B",
         "store1",
         "450",
         "45",
         "2025-01-08 00:00:00"
        ]
       ],
       "shape": {
        "columns": 5,
        "rows": 8
       }
      },
      "text/html": [
       "<div>\n",
       "<style scoped>\n",
       "    .dataframe tbody tr th:only-of-type {\n",
       "        vertical-align: middle;\n",
       "    }\n",
       "\n",
       "    .dataframe tbody tr th {\n",
       "        vertical-align: top;\n",
       "    }\n",
       "\n",
       "    .dataframe thead th {\n",
       "        text-align: right;\n",
       "    }\n",
       "</style>\n",
       "<table border=\"1\" class=\"dataframe\">\n",
       "  <thead>\n",
       "    <tr style=\"text-align: right;\">\n",
       "      <th></th>\n",
       "      <th>Categories</th>\n",
       "      <th>store</th>\n",
       "      <th>sales</th>\n",
       "      <th>Quatity</th>\n",
       "      <th>Date</th>\n",
       "    </tr>\n",
       "  </thead>\n",
       "  <tbody>\n",
       "    <tr>\n",
       "      <th>0</th>\n",
       "      <td>A</td>\n",
       "      <td>store1</td>\n",
       "      <td>100</td>\n",
       "      <td>10</td>\n",
       "      <td>2025-01-01</td>\n",
       "    </tr>\n",
       "    <tr>\n",
       "      <th>1</th>\n",
       "      <td>B</td>\n",
       "      <td>store1</td>\n",
       "      <td>200</td>\n",
       "      <td>20</td>\n",
       "      <td>2025-01-02</td>\n",
       "    </tr>\n",
       "    <tr>\n",
       "      <th>2</th>\n",
       "      <td>A</td>\n",
       "      <td>store2</td>\n",
       "      <td>150</td>\n",
       "      <td>15</td>\n",
       "      <td>2025-01-03</td>\n",
       "    </tr>\n",
       "    <tr>\n",
       "      <th>3</th>\n",
       "      <td>B</td>\n",
       "      <td>store2</td>\n",
       "      <td>250</td>\n",
       "      <td>25</td>\n",
       "      <td>2025-01-04</td>\n",
       "    </tr>\n",
       "    <tr>\n",
       "      <th>4</th>\n",
       "      <td>A</td>\n",
       "      <td>store1</td>\n",
       "      <td>300</td>\n",
       "      <td>30</td>\n",
       "      <td>2025-01-05</td>\n",
       "    </tr>\n",
       "    <tr>\n",
       "      <th>5</th>\n",
       "      <td>B</td>\n",
       "      <td>store2</td>\n",
       "      <td>400</td>\n",
       "      <td>40</td>\n",
       "      <td>2025-01-06</td>\n",
       "    </tr>\n",
       "    <tr>\n",
       "      <th>6</th>\n",
       "      <td>A</td>\n",
       "      <td>store2</td>\n",
       "      <td>350</td>\n",
       "      <td>35</td>\n",
       "      <td>2025-01-07</td>\n",
       "    </tr>\n",
       "    <tr>\n",
       "      <th>7</th>\n",
       "      <td>B</td>\n",
       "      <td>store1</td>\n",
       "      <td>450</td>\n",
       "      <td>45</td>\n",
       "      <td>2025-01-08</td>\n",
       "    </tr>\n",
       "  </tbody>\n",
       "</table>\n",
       "</div>"
      ],
      "text/plain": [
       "  Categories   store  sales  Quatity       Date\n",
       "0          A  store1    100       10 2025-01-01\n",
       "1          B  store1    200       20 2025-01-02\n",
       "2          A  store2    150       15 2025-01-03\n",
       "3          B  store2    250       25 2025-01-04\n",
       "4          A  store1    300       30 2025-01-05\n",
       "5          B  store2    400       40 2025-01-06\n",
       "6          A  store2    350       35 2025-01-07\n",
       "7          B  store1    450       45 2025-01-08"
      ]
     },
     "execution_count": 12,
     "metadata": {},
     "output_type": "execute_result"
    }
   ],
   "source": [
    "df"
   ]
  },
  {
   "cell_type": "markdown",
   "id": "af80624a",
   "metadata": {},
   "source": [
    "# Group by category and calculate the sum of the sales"
   ]
  },
  {
   "cell_type": "code",
   "execution_count": 13,
   "id": "6ca3ce45",
   "metadata": {},
   "outputs": [
    {
     "data": {
      "application/vnd.microsoft.datawrangler.viewer.v0+json": {
       "columns": [
        {
         "name": "Categories",
         "rawType": "object",
         "type": "string"
        },
        {
         "name": "sales",
         "rawType": "int64",
         "type": "integer"
        }
       ],
       "ref": "434cd3dd-6608-4ac0-ae43-c6e35921e320",
       "rows": [
        [
         "A",
         "900"
        ],
        [
         "B",
         "1300"
        ]
       ],
       "shape": {
        "columns": 1,
        "rows": 2
       }
      },
      "text/plain": [
       "Categories\n",
       "A     900\n",
       "B    1300\n",
       "Name: sales, dtype: int64"
      ]
     },
     "execution_count": 13,
     "metadata": {},
     "output_type": "execute_result"
    }
   ],
   "source": [
    "category_sales = df.groupby('Categories')['sales'].sum()\n",
    "category_sales"
   ]
  },
  {
   "cell_type": "markdown",
   "id": "84cc9980",
   "metadata": {},
   "source": [
    "# Group by Store and calculate the sum of sales"
   ]
  },
  {
   "cell_type": "code",
   "execution_count": 14,
   "id": "90c72b83",
   "metadata": {},
   "outputs": [
    {
     "data": {
      "application/vnd.microsoft.datawrangler.viewer.v0+json": {
       "columns": [
        {
         "name": "store",
         "rawType": "object",
         "type": "string"
        },
        {
         "name": "sales",
         "rawType": "int64",
         "type": "integer"
        }
       ],
       "ref": "f93721fe-39f2-4296-8e8c-a80e4968fc1f",
       "rows": [
        [
         "store1",
         "1050"
        ],
        [
         "store2",
         "1150"
        ]
       ],
       "shape": {
        "columns": 1,
        "rows": 2
       }
      },
      "text/plain": [
       "store\n",
       "store1    1050\n",
       "store2    1150\n",
       "Name: sales, dtype: int64"
      ]
     },
     "execution_count": 14,
     "metadata": {},
     "output_type": "execute_result"
    }
   ],
   "source": [
    "store_sales = df.groupby('store')['sales'].sum()\n",
    "store_sales\n"
   ]
  },
  {
   "cell_type": "markdown",
   "id": "04802889",
   "metadata": {},
   "source": [
    "# Group by Multiple columns\n",
    "# Group by Category and store"
   ]
  },
  {
   "cell_type": "code",
   "execution_count": 15,
   "id": "4e8d238c",
   "metadata": {},
   "outputs": [
    {
     "data": {
      "application/vnd.microsoft.datawrangler.viewer.v0+json": {
       "columns": [
        {
         "name": "('Categories', 'store')",
         "rawType": "object",
         "type": "unknown"
        },
        {
         "name": "sales",
         "rawType": "int64",
         "type": "integer"
        }
       ],
       "ref": "407b2bb6-5b78-40b6-b8e1-83fbc015d9ef",
       "rows": [
        [
         "('A', 'store1')",
         "400"
        ],
        [
         "('A', 'store2')",
         "500"
        ],
        [
         "('B', 'store1')",
         "650"
        ],
        [
         "('B', 'store2')",
         "650"
        ]
       ],
       "shape": {
        "columns": 1,
        "rows": 4
       }
      },
      "text/plain": [
       "Categories  store \n",
       "A           store1    400\n",
       "            store2    500\n",
       "B           store1    650\n",
       "            store2    650\n",
       "Name: sales, dtype: int64"
      ]
     },
     "execution_count": 15,
     "metadata": {},
     "output_type": "execute_result"
    }
   ],
   "source": [
    "mul_group = df.groupby(['Categories', 'store'])['sales'].sum()\n",
    "mul_group"
   ]
  },
  {
   "cell_type": "markdown",
   "id": "adf7573a",
   "metadata": {},
   "source": [
    "# Aggregation"
   ]
  },
  {
   "cell_type": "code",
   "execution_count": 16,
   "id": "ec043ef2",
   "metadata": {},
   "outputs": [
    {
     "data": {
      "text/plain": [
       "np.float64(275.0)"
      ]
     },
     "execution_count": 16,
     "metadata": {},
     "output_type": "execute_result"
    }
   ],
   "source": [
    "df['sales'].mean() # Average sales by mean"
   ]
  },
  {
   "cell_type": "code",
   "execution_count": 17,
   "id": "2f35ded1",
   "metadata": {},
   "outputs": [
    {
     "data": {
      "text/plain": [
       "15000.0"
      ]
     },
     "execution_count": 17,
     "metadata": {},
     "output_type": "execute_result"
    }
   ],
   "source": [
    "#check one by one each aggregation function\n",
    "\n",
    "df['sales'].mode() # Mode of sales\n",
    "df['sales'].sum() # Sum of sales\n",
    "df['sales'].count() # Count of sales\n",
    "df['sales'].min() # Minimum sales\n",
    "df['sales'].max() # Maximum sales   \n",
    "df['sales'].std() # Standard deviation of sales\n",
    "df['sales'].var() # Variance of sales"
   ]
  },
  {
   "cell_type": "code",
   "execution_count": 18,
   "id": "03ef605b",
   "metadata": {},
   "outputs": [
    {
     "data": {
      "application/vnd.microsoft.datawrangler.viewer.v0+json": {
       "columns": [
        {
         "name": "index",
         "rawType": "object",
         "type": "string"
        },
        {
         "name": "sales",
         "rawType": "float64",
         "type": "float"
        }
       ],
       "ref": "cb24b618-4ada-4151-a091-e237541de11a",
       "rows": [
        [
         "sum",
         "2200.0"
        ],
        [
         "mean",
         "275.0"
        ],
        [
         "max",
         "450.0"
        ],
        [
         "min",
         "100.0"
        ],
        [
         "std",
         "122.47448713915891"
        ],
        [
         "var",
         "15000.0"
        ],
        [
         "count",
         "8.0"
        ],
        [
         "median",
         "275.0"
        ],
        [
         "skew",
         "0.0"
        ],
        [
         "kurt",
         "-1.2000000000000002"
        ]
       ],
       "shape": {
        "columns": 1,
        "rows": 10
       }
      },
      "text/plain": [
       "sum        2200.000000\n",
       "mean        275.000000\n",
       "max         450.000000\n",
       "min         100.000000\n",
       "std         122.474487\n",
       "var       15000.000000\n",
       "count         8.000000\n",
       "median      275.000000\n",
       "skew          0.000000\n",
       "kurt         -1.200000\n",
       "Name: sales, dtype: float64"
      ]
     },
     "execution_count": 18,
     "metadata": {},
     "output_type": "execute_result"
    }
   ],
   "source": [
    "df['sales'].agg(['sum', 'mean', 'max', 'min', 'std', 'var', 'count', 'median', 'skew', 'kurt'])"
   ]
  },
  {
   "cell_type": "code",
   "execution_count": null,
   "id": "a4947e32",
   "metadata": {},
   "outputs": [],
   "source": []
  }
 ],
 "metadata": {
  "kernelspec": {
   "display_name": "base",
   "language": "python",
   "name": "python3"
  },
  "language_info": {
   "codemirror_mode": {
    "name": "ipython",
    "version": 3
   },
   "file_extension": ".py",
   "mimetype": "text/x-python",
   "name": "python",
   "nbconvert_exporter": "python",
   "pygments_lexer": "ipython3",
   "version": "3.13.5"
  }
 },
 "nbformat": 4,
 "nbformat_minor": 5
}
